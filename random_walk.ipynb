{
 "cells": [
  {
   "cell_type": "code",
   "execution_count": 2,
   "metadata": {},
   "outputs": [],
   "source": [
    "from random import choice\n",
    "\n",
    "class RandomWalk():\n",
    "    def __init__(self, num_points = 5000):\n",
    "        self.num_points = num_points\n",
    "        \n",
    "        self.x_values = [0]\n",
    "        self.y_values = [0]\n",
    "    \n",
    "    def fill_walk(self):\n",
    "        \n",
    "        while len(self.x_values) < self.num_points:\n",
    "            x_direction = choice([-1, 1])\n",
    "            x_distance = choice([0, 1, 2, 3, 4])\n",
    "            x_step = x_direction * x_distance\n",
    "            \n",
    "            y_direction = choice([-1, 1])\n",
    "            y_distance = choice([0, 1, 2, 3, 4])\n",
    "            y_step = y_direction * y_distance\n",
    "            \n",
    "            next_x = self.x_values[-1] + x_step\n",
    "            next_y = self.y_values[-1] + y_step\n",
    "            \n",
    "            self.x_values.append(next_x)\n",
    "            self.y_values.append(next_y)"
   ]
  },
  {
   "cell_type": "code",
   "execution_count": null,
   "metadata": {},
   "outputs": [],
   "source": []
  }
 ],
 "metadata": {
  "kernelspec": {
   "display_name": "Python 3",
   "language": "python",
   "name": "python3"
  },
  "language_info": {
   "codemirror_mode": {
    "name": "ipython",
    "version": 3
   },
   "file_extension": ".py",
   "mimetype": "text/x-python",
   "name": "python",
   "nbconvert_exporter": "python",
   "pygments_lexer": "ipython3",
   "version": "3.6.4"
  }
 },
 "nbformat": 4,
 "nbformat_minor": 2
}
