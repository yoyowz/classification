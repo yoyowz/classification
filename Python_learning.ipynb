{
 "cells": [
  {
   "cell_type": "code",
   "execution_count": 2,
   "metadata": {},
   "outputs": [
    {
     "name": "stdout",
     "output_type": "stream",
     "text": [
      "Good afternoon, Shanghai!\n"
     ]
    }
   ],
   "source": [
    "message = \"Good afternoon, Shanghai!\"\n",
    "print(message)"
   ]
  },
  {
   "cell_type": "code",
   "execution_count": 3,
   "metadata": {},
   "outputs": [
    {
     "name": "stdout",
     "output_type": "stream",
     "text": [
      "Good afternoon, Shanghai!\n",
      "It is a sunny afternoon!\n"
     ]
    }
   ],
   "source": [
    "message = \"Good afternoon, Shanghai!\"\n",
    "print(message)\n",
    "\n",
    "message = \"It is a sunny afternoon!\"\n",
    "print(message)"
   ]
  },
  {
   "cell_type": "code",
   "execution_count": 4,
   "metadata": {},
   "outputs": [
    {
     "name": "stdout",
     "output_type": "stream",
     "text": [
      "Ada Lovelace\n",
      "ADA LOVELACE\n",
      "ada lovelace\n"
     ]
    }
   ],
   "source": [
    "name = \"Ada Lovelace\"\n",
    "print(name.title())\n",
    "print(name.upper())\n",
    "print(name.lower())"
   ]
  },
  {
   "cell_type": "code",
   "execution_count": 6,
   "metadata": {},
   "outputs": [
    {
     "name": "stdout",
     "output_type": "stream",
     "text": [
      "ada lovelace\n"
     ]
    }
   ],
   "source": [
    "first_name = \"ada\"\n",
    "last_name = \"lovelace\"\n",
    "full_name = first_name + \" \" + last_name\n",
    "print(full_name)"
   ]
  },
  {
   "cell_type": "code",
   "execution_count": 8,
   "metadata": {},
   "outputs": [
    {
     "name": "stdout",
     "output_type": "stream",
     "text": [
      "Hello, Ada Lovelace!\n"
     ]
    }
   ],
   "source": [
    "print(\"Hello, \" + full_name.title() + \"!\")"
   ]
  },
  {
   "cell_type": "code",
   "execution_count": 9,
   "metadata": {},
   "outputs": [
    {
     "name": "stdout",
     "output_type": "stream",
     "text": [
      "Hello, Ada Lovelace!\n"
     ]
    }
   ],
   "source": [
    "message = \"Hello, \" + full_name.title() + \"!\"\n",
    "print(message)"
   ]
  },
  {
   "cell_type": "code",
   "execution_count": 10,
   "metadata": {},
   "outputs": [
    {
     "name": "stdout",
     "output_type": "stream",
     "text": [
      "Languanges:\n",
      "Python\n",
      "C\n",
      "JavaScript\n"
     ]
    }
   ],
   "source": [
    "print(\"Languanges:\\nPython\\nC\\nJavaScript\")"
   ]
  },
  {
   "cell_type": "code",
   "execution_count": 11,
   "metadata": {},
   "outputs": [
    {
     "data": {
      "text/plain": [
       "'Python '"
      ]
     },
     "execution_count": 11,
     "metadata": {},
     "output_type": "execute_result"
    }
   ],
   "source": [
    "favorite_language = 'Python '\n",
    "favorite_language"
   ]
  },
  {
   "cell_type": "code",
   "execution_count": 13,
   "metadata": {},
   "outputs": [
    {
     "data": {
      "text/plain": [
       "'Python'"
      ]
     },
     "execution_count": 13,
     "metadata": {},
     "output_type": "execute_result"
    }
   ],
   "source": [
    "favorite_language.rstrip()"
   ]
  },
  {
   "cell_type": "code",
   "execution_count": 14,
   "metadata": {},
   "outputs": [
    {
     "data": {
      "text/plain": [
       "'Python'"
      ]
     },
     "execution_count": 14,
     "metadata": {},
     "output_type": "execute_result"
    }
   ],
   "source": [
    "favorite_language = ' Python'\n",
    "favorite_language.lstrip()"
   ]
  },
  {
   "cell_type": "code",
   "execution_count": 15,
   "metadata": {},
   "outputs": [
    {
     "name": "stdout",
     "output_type": "stream",
     "text": [
      "Eric\n",
      "Hello Eric, would you like to learn some Python today?\n"
     ]
    }
   ],
   "source": [
    "person_name = \"Eric\"\n",
    "print(person_name)\n",
    "message = \"Hello Eric, would you like to learn some Python today?\"\n",
    "print(message)"
   ]
  },
  {
   "cell_type": "code",
   "execution_count": 16,
   "metadata": {},
   "outputs": [
    {
     "name": "stdout",
     "output_type": "stream",
     "text": [
      "Eric\n",
      "ERIC\n",
      "eric\n"
     ]
    }
   ],
   "source": [
    "print(person_name.title())\n",
    "print(person_name.upper())\n",
    "print(person_name.lower())"
   ]
  },
  {
   "cell_type": "code",
   "execution_count": 18,
   "metadata": {},
   "outputs": [
    {
     "name": "stdout",
     "output_type": "stream",
     "text": [
      "Albert Einstein once said,\"A person who never made a mistake never tried anything new.\"\n"
     ]
    }
   ],
   "source": [
    "message = 'Albert Einstein once said,\"A person who never made a mistake never tried anything new.\"'\n",
    "print(message)"
   ]
  },
  {
   "cell_type": "code",
   "execution_count": 21,
   "metadata": {},
   "outputs": [
    {
     "name": "stdout",
     "output_type": "stream",
     "text": [
      "Albert Einstein once said,\"A person who never made a mistake never tried anything new\"\n"
     ]
    }
   ],
   "source": [
    "famous_person = \"Albert Einstein\"\n",
    "message = famous_person + ' once said,\"A person who never made a mistake never tried anything new\"'\n",
    "print(message)"
   ]
  },
  {
   "cell_type": "code",
   "execution_count": 24,
   "metadata": {},
   "outputs": [
    {
     "name": "stdout",
     "output_type": "stream",
     "text": [
      " Eric Lovelace has some favorite sports:\n",
      "\tbasketball\n",
      "\tfootball\n",
      "\ttable tennis\n"
     ]
    }
   ],
   "source": [
    "person_name = \" Eric Lovelace \"\n",
    "message = person_name + \"has some favorite sports:\\n\\tbasketball\\n\\tfootball\\n\\ttable tennis\"\n",
    "print(message)"
   ]
  },
  {
   "cell_type": "code",
   "execution_count": 25,
   "metadata": {},
   "outputs": [
    {
     "name": "stdout",
     "output_type": "stream",
     "text": [
      "Eric Lovelace has some favorite sports:\n",
      "\tbasketball\n",
      "\tfootball\n",
      "\ttable tennis\n",
      " Eric Lovelacehas some favorite sports:\n",
      "\tbasketball\n",
      "\tfootball\n",
      "\ttable tennis\n",
      "Eric Lovelacehas some favorite sports:\n",
      "\tbasketball\n",
      "\tfootball\n",
      "\ttable tennis\n"
     ]
    }
   ],
   "source": [
    "person_name = \" Eric Lovelace \"\n",
    "message = \"has some favorite sports:\\n\\tbasketball\\n\\tfootball\\n\\ttable tennis\"\n",
    "print(person_name.lstrip()+message)\n",
    "print(person_name.rstrip()+message)\n",
    "print(person_name.strip()+message)"
   ]
  },
  {
   "cell_type": "code",
   "execution_count": 26,
   "metadata": {},
   "outputs": [
    {
     "name": "stdout",
     "output_type": "stream",
     "text": [
      "8\n",
      "8\n",
      "8\n",
      "8.0\n"
     ]
    }
   ],
   "source": [
    "print(2+6)\n",
    "print(9-1)\n",
    "print(2*4)\n",
    "print(16/2)"
   ]
  },
  {
   "cell_type": "code",
   "execution_count": 27,
   "metadata": {},
   "outputs": [
    {
     "name": "stdout",
     "output_type": "stream",
     "text": [
      "My favorite number is 5\n"
     ]
    }
   ],
   "source": [
    "favorite_number = 5\n",
    "message = \"My favorite number is \"\n",
    "print(message + str(favorite_number))"
   ]
  },
  {
   "cell_type": "code",
   "execution_count": 28,
   "metadata": {},
   "outputs": [
    {
     "name": "stdout",
     "output_type": "stream",
     "text": [
      "The Zen of Python, by Tim Peters\n",
      "\n",
      "Beautiful is better than ugly.\n",
      "Explicit is better than implicit.\n",
      "Simple is better than complex.\n",
      "Complex is better than complicated.\n",
      "Flat is better than nested.\n",
      "Sparse is better than dense.\n",
      "Readability counts.\n",
      "Special cases aren't special enough to break the rules.\n",
      "Although practicality beats purity.\n",
      "Errors should never pass silently.\n",
      "Unless explicitly silenced.\n",
      "In the face of ambiguity, refuse the temptation to guess.\n",
      "There should be one-- and preferably only one --obvious way to do it.\n",
      "Although that way may not be obvious at first unless you're Dutch.\n",
      "Now is better than never.\n",
      "Although never is often better than *right* now.\n",
      "If the implementation is hard to explain, it's a bad idea.\n",
      "If the implementation is easy to explain, it may be a good idea.\n",
      "Namespaces are one honking great idea -- let's do more of those!\n"
     ]
    }
   ],
   "source": [
    "import this"
   ]
  },
  {
   "cell_type": "code",
   "execution_count": 31,
   "metadata": {},
   "outputs": [
    {
     "name": "stdout",
     "output_type": "stream",
     "text": [
      "Alice\n",
      "Eric\n",
      "Amanda\n",
      "Dirk\n"
     ]
    }
   ],
   "source": [
    "friends_names = ['Alice', 'Eric', 'Amanda', 'Dirk']\n",
    "print(friends_names[0]. title())\n",
    "print(friends_names[1]. title())\n",
    "print(friends_names[2]. title())\n",
    "print(friends_names[-1]. title())"
   ]
  },
  {
   "cell_type": "code",
   "execution_count": 36,
   "metadata": {},
   "outputs": [
    {
     "name": "stdout",
     "output_type": "stream",
     "text": [
      "Hello. How are you doing today, Alice?\n",
      "Hello. How are you doing today, Eric?\n",
      "Hello. How are you doing today, Amanda?\n",
      "Hello. How are you doing today, Dirk?\n"
     ]
    }
   ],
   "source": [
    "Greetings_1 = \"Hello. How are you doing today, \"\n",
    "Greetings_2 = \"?\"\n",
    "print(Greetings_1+friends_names[0].title()+Greetings_2)\n",
    "print(Greetings_1+friends_names[1].title()+Greetings_2)\n",
    "print(Greetings_1+friends_names[2].title()+Greetings_2)\n",
    "print(Greetings_1+friends_names[-1].title()+Greetings_2)"
   ]
  },
  {
   "cell_type": "code",
   "execution_count": 37,
   "metadata": {},
   "outputs": [
    {
     "name": "stdout",
     "output_type": "stream",
     "text": [
      "My favorite car is Nissan.\n",
      "My favorite car is Audi.\n",
      "My favorite car is Benz.\n"
     ]
    }
   ],
   "source": [
    "cars_examples = ['Nissan', 'Audi', 'Benz']\n",
    "favorite_car = \"My favorite car is \"\n",
    "message_end = \".\"\n",
    "print(favorite_car+cars_examples[0]+message_end)\n",
    "print(favorite_car+cars_examples[1]+message_end)\n",
    "print(favorite_car+cars_examples[-1]+message_end)"
   ]
  },
  {
   "cell_type": "code",
   "execution_count": 43,
   "metadata": {},
   "outputs": [
    {
     "name": "stdout",
     "output_type": "stream",
     "text": [
      "Dear Gates, I'd like to cordially invite you to have a dinner with me.\n",
      "Dear Jack Ma, I'd like to cordially invite you to have a dinner with me.\n",
      "Dear Goldsmith, I'd like to cordially invite you to have a dinner with me.\n",
      "Dear Albert, I'd like to cordially invite you to have a dinner with me.\n",
      "Goldsmith can't make it.\n"
     ]
    }
   ],
   "source": [
    "guest_list = ['Gates', 'Jack Ma', 'Goldsmith', 'Albert']\n",
    "Invitation_message1 = \"Dear \"\n",
    "Invitation_message2 = \", I'd like to cordially invite you to have a dinner with me.\"\n",
    "print(Invitation_message1+guest_list[0]+Invitation_message2)\n",
    "print(Invitation_message1+guest_list[1]+Invitation_message2)\n",
    "print(Invitation_message1+guest_list[2]+Invitation_message2)\n",
    "print(Invitation_message1+guest_list[3]+Invitation_message2)\n",
    "print(guest_list[2]+\" can't make it.\")"
   ]
  },
  {
   "cell_type": "code",
   "execution_count": 44,
   "metadata": {},
   "outputs": [
    {
     "name": "stdout",
     "output_type": "stream",
     "text": [
      "['Gates', 'Jack Ma', 'Albert']\n"
     ]
    }
   ],
   "source": [
    "guest_list.remove('Goldsmith')\n",
    "print(guest_list)"
   ]
  },
  {
   "cell_type": "code",
   "execution_count": 49,
   "metadata": {},
   "outputs": [
    {
     "name": "stdout",
     "output_type": "stream",
     "text": [
      "['Gates', 'Jack Ma', 'Amanda', 'Albert']\n"
     ]
    }
   ],
   "source": [
    "guest_list = ['Gates', 'Jack Ma', 'Albert']\n",
    "guest_list.insert(2,'Amanda')\n",
    "print(guest_list)"
   ]
  },
  {
   "cell_type": "code",
   "execution_count": 50,
   "metadata": {},
   "outputs": [
    {
     "name": "stdout",
     "output_type": "stream",
     "text": [
      "Dear Gates, I'd like to cordially invite you to have a dinner with me.\n",
      "Dear Jack Ma, I'd like to cordially invite you to have a dinner with me.\n",
      "Dear Amanda, I'd like to cordially invite you to have a dinner with me.\n",
      "Dear Albert, I'd like to cordially invite you to have a dinner with me.\n"
     ]
    }
   ],
   "source": [
    "print(Invitation_message1+guest_list[0]+Invitation_message2)\n",
    "print(Invitation_message1+guest_list[1]+Invitation_message2)\n",
    "print(Invitation_message1+guest_list[2]+Invitation_message2)\n",
    "print(Invitation_message1+guest_list[3]+Invitation_message2)"
   ]
  },
  {
   "cell_type": "code",
   "execution_count": 51,
   "metadata": {},
   "outputs": [
    {
     "name": "stdout",
     "output_type": "stream",
     "text": [
      "['Newton', 'Gates', 'Jack Ma', 'Amanda', 'Albert']\n"
     ]
    }
   ],
   "source": [
    "guest_list.insert(0, 'Newton')\n",
    "print(guest_list)"
   ]
  },
  {
   "cell_type": "code",
   "execution_count": 52,
   "metadata": {},
   "outputs": [
    {
     "name": "stdout",
     "output_type": "stream",
     "text": [
      "['Newton', 'Gates', 'Linkon', 'Jack Ma', 'Amanda', 'Albert']\n"
     ]
    }
   ],
   "source": [
    "guest_list.insert(2, 'Linkon')\n",
    "print(guest_list)"
   ]
  },
  {
   "cell_type": "code",
   "execution_count": 54,
   "metadata": {},
   "outputs": [
    {
     "name": "stdout",
     "output_type": "stream",
     "text": [
      "['Newton', 'Gates', 'Linkon', 'Jack Ma', 'Amanda', 'Albert', 'Toby', 'Toby']\n"
     ]
    }
   ],
   "source": [
    "guest_list.append('Toby')\n",
    "print(guest_list)"
   ]
  },
  {
   "cell_type": "code",
   "execution_count": 55,
   "metadata": {},
   "outputs": [
    {
     "name": "stdout",
     "output_type": "stream",
     "text": [
      "['Newton', 'Gates', 'Linkon', 'Jack Ma', 'Amanda', 'Albert', 'Toby']\n"
     ]
    }
   ],
   "source": [
    "guest_list.pop()\n",
    "print(guest_list)"
   ]
  },
  {
   "cell_type": "code",
   "execution_count": 63,
   "metadata": {},
   "outputs": [
    {
     "name": "stdout",
     "output_type": "stream",
     "text": [
      "Dear Newton, I'd like to cordially invite you to have a dinner with me.\n",
      "Dear Gates, I'd like to cordially invite you to have a dinner with me.\n",
      "Dear Linkon, I'd like to cordially invite you to have a dinner with me.\n",
      "Dear Jack Ma, I'd like to cordially invite you to have a dinner with me.\n",
      "Dear Amanda, I'd like to cordially invite you to have a dinner with me.\n",
      "Dear Albert, I'd like to cordially invite you to have a dinner with me.\n",
      "Dear Toby, I'd like to cordially invite you to have a dinner with me.\n"
     ]
    }
   ],
   "source": [
    "guest_list = ['Newton', 'Gates', 'Linkon', 'Jack Ma', 'Amanda', 'Albert', 'Toby']\n",
    "print(Invitation_message1+guest_list[0]+Invitation_message2)\n",
    "print(Invitation_message1+guest_list[1]+Invitation_message2)\n",
    "print(Invitation_message1+guest_list[2]+Invitation_message2)\n",
    "print(Invitation_message1+guest_list[3]+Invitation_message2)\n",
    "print(Invitation_message1+guest_list[4]+Invitation_message2)\n",
    "print(Invitation_message1+guest_list[-2]+Invitation_message2)\n",
    "print(Invitation_message1+guest_list[-1]+Invitation_message2)"
   ]
  },
  {
   "cell_type": "code",
   "execution_count": 64,
   "metadata": {},
   "outputs": [
    {
     "name": "stdout",
     "output_type": "stream",
     "text": [
      "Sorry, Toby. Due to space limitation, I could only invite two people to have dinner with me.\n",
      "Sorry, Albert. Due to space limitation, I could only invite two people to have dinner with me.\n",
      "Sorry, Amanda. Due to space limitation, I could only invite two people to have dinner with me.\n",
      "Sorry, Jack Ma. Due to space limitation, I could only invite two people to have dinner with me.\n",
      "Sorry, Linkon. Due to space limitation, I could only invite two people to have dinner with me.\n"
     ]
    }
   ],
   "source": [
    "message_apology = \" Due to space limitation, I could only invite two people to have dinner with me.\"\n",
    "print(\"Sorry, \"+ guest_list.pop() +\".\"+ message_apology)\n",
    "print(\"Sorry, \"+ guest_list.pop() +\".\"+ message_apology)\n",
    "print(\"Sorry, \"+ guest_list.pop() +\".\"+ message_apology)\n",
    "print(\"Sorry, \"+ guest_list.pop() +\".\"+ message_apology)\n",
    "print(\"Sorry, \"+ guest_list.pop() +\".\"+ message_apology)"
   ]
  },
  {
   "cell_type": "code",
   "execution_count": 65,
   "metadata": {},
   "outputs": [
    {
     "name": "stdout",
     "output_type": "stream",
     "text": [
      "Dear Newton, I'd still like to invite you to have dinner with me.\n",
      "Dear Gates, I'd still like to invite you to have dinner with me.\n"
     ]
    }
   ],
   "source": [
    "print(\"Dear \"+guest_list[0]+\", I'd still like to invite you to have dinner with me.\")\n",
    "print(\"Dear \"+guest_list[1]+\", I'd still like to invite you to have dinner with me.\")"
   ]
  },
  {
   "cell_type": "code",
   "execution_count": 66,
   "metadata": {},
   "outputs": [
    {
     "name": "stdout",
     "output_type": "stream",
     "text": [
      "[]\n"
     ]
    }
   ],
   "source": [
    "del guest_list[1]\n",
    "del guest_list[0]\n",
    "print(guest_list)"
   ]
  },
  {
   "cell_type": "code",
   "execution_count": 67,
   "metadata": {},
   "outputs": [
    {
     "name": "stdout",
     "output_type": "stream",
     "text": [
      "['Paris', 'Switzerland', 'Thailand', 'Germany', 'New Zealand']\n"
     ]
    }
   ],
   "source": [
    "visiting_list = ['Paris', 'Switzerland', 'Thailand', 'Germany', 'New Zealand']\n",
    "print(visiting_list)"
   ]
  },
  {
   "cell_type": "code",
   "execution_count": 68,
   "metadata": {
    "scrolled": true
   },
   "outputs": [
    {
     "name": "stdout",
     "output_type": "stream",
     "text": [
      "['Paris', 'Switzerland', 'Thailand', 'Germany', 'New Zealand']\n",
      "['Germany', 'New Zealand', 'Paris', 'Switzerland', 'Thailand']\n"
     ]
    }
   ],
   "source": [
    "print(visiting_list)\n",
    "print(sorted(visiting_list))"
   ]
  },
  {
   "cell_type": "code",
   "execution_count": 71,
   "metadata": {},
   "outputs": [
    {
     "name": "stdout",
     "output_type": "stream",
     "text": [
      "['Paris', 'Switzerland', 'Thailand', 'Germany', 'New Zealand']\n",
      "['New Zealand', 'Germany', 'Thailand', 'Switzerland', 'Paris']\n"
     ]
    }
   ],
   "source": [
    "visiting_list = ['Paris', 'Switzerland', 'Thailand', 'Germany', 'New Zealand']\n",
    "print(visiting_list)\n",
    "\n",
    "visiting_list.reverse()\n",
    "print(visiting_list)"
   ]
  },
  {
   "cell_type": "code",
   "execution_count": 72,
   "metadata": {},
   "outputs": [
    {
     "name": "stdout",
     "output_type": "stream",
     "text": [
      "['Germany', 'New Zealand', 'Paris', 'Switzerland', 'Thailand']\n"
     ]
    }
   ],
   "source": [
    "visiting_list = ['Paris', 'Switzerland', 'Thailand', 'Germany', 'New Zealand']\n",
    "visiting_list.sort()\n",
    "print(visiting_list)"
   ]
  },
  {
   "cell_type": "code",
   "execution_count": 73,
   "metadata": {},
   "outputs": [
    {
     "name": "stdout",
     "output_type": "stream",
     "text": [
      "['Thailand', 'Switzerland', 'Paris', 'New Zealand', 'Germany']\n"
     ]
    }
   ],
   "source": [
    "visiting_list = ['Paris', 'Switzerland', 'Thailand', 'Germany', 'New Zealand']\n",
    "visiting_list.sort(reverse=True)\n",
    "print(visiting_list)"
   ]
  },
  {
   "cell_type": "code",
   "execution_count": 75,
   "metadata": {},
   "outputs": [
    {
     "data": {
      "text/plain": [
       "4"
      ]
     },
     "execution_count": 75,
     "metadata": {},
     "output_type": "execute_result"
    }
   ],
   "source": [
    "len(friends_names)"
   ]
  },
  {
   "cell_type": "code",
   "execution_count": 76,
   "metadata": {},
   "outputs": [
    {
     "name": "stdout",
     "output_type": "stream",
     "text": [
      "badminton\n",
      "table tennis\n",
      "basketball\n"
     ]
    }
   ],
   "source": [
    "favorite_sports = ['badminton', 'table tennis', 'basketball']\n",
    "for favorite_sport in favorite_sports:\n",
    "    print(favorite_sport)"
   ]
  },
  {
   "cell_type": "code",
   "execution_count": 77,
   "metadata": {},
   "outputs": [
    {
     "name": "stdout",
     "output_type": "stream",
     "text": [
      "My favorite sport is badminton\n",
      "My favorite sport is table tennis\n",
      "My favorite sport is basketball\n"
     ]
    }
   ],
   "source": [
    "for favorite_sport in favorite_sports:\n",
    "    print(\"My favorite sport is \"+favorite_sport)"
   ]
  },
  {
   "cell_type": "code",
   "execution_count": 78,
   "metadata": {},
   "outputs": [
    {
     "name": "stdout",
     "output_type": "stream",
     "text": [
      "My favorite sport is badminton\n",
      "My favorite sport is table tennis\n",
      "My favorite sport is basketball\n",
      "I really love sports!\n"
     ]
    }
   ],
   "source": [
    "for favorite_sport in favorite_sports:\n",
    "    print(\"My favorite sport is \"+favorite_sport)\n",
    "\n",
    "print(\"I really love sports!\")"
   ]
  },
  {
   "cell_type": "code",
   "execution_count": 80,
   "metadata": {},
   "outputs": [
    {
     "name": "stdout",
     "output_type": "stream",
     "text": [
      "1\n",
      "2\n",
      "3\n",
      "4\n",
      "5\n",
      "6\n",
      "7\n",
      "8\n",
      "9\n",
      "10\n",
      "11\n",
      "12\n",
      "13\n",
      "14\n",
      "15\n",
      "16\n",
      "17\n",
      "18\n",
      "19\n",
      "20\n"
     ]
    }
   ],
   "source": [
    "for number in range(1, 21):\n",
    "    print(number)"
   ]
  },
  {
   "cell_type": "code",
   "execution_count": 81,
   "metadata": {},
   "outputs": [
    {
     "name": "stdout",
     "output_type": "stream",
     "text": [
      "[1, 2, 3, 4, 5, 6, 7, 8, 9, 10, 11, 12, 13, 14, 15, 16, 17, 18, 19, 20]\n"
     ]
    }
   ],
   "source": [
    "numbers = list(range(1, 21))\n",
    "print(numbers)"
   ]
  },
  {
   "cell_type": "code",
   "execution_count": 83,
   "metadata": {},
   "outputs": [
    {
     "data": {
      "text/plain": [
       "1"
      ]
     },
     "execution_count": 83,
     "metadata": {},
     "output_type": "execute_result"
    }
   ],
   "source": [
    "numbers = list(range(1, 1000001))\n",
    "min(numbers)"
   ]
  },
  {
   "cell_type": "code",
   "execution_count": 84,
   "metadata": {},
   "outputs": [
    {
     "data": {
      "text/plain": [
       "1000000"
      ]
     },
     "execution_count": 84,
     "metadata": {},
     "output_type": "execute_result"
    }
   ],
   "source": [
    "max(numbers)"
   ]
  },
  {
   "cell_type": "code",
   "execution_count": 85,
   "metadata": {},
   "outputs": [
    {
     "data": {
      "text/plain": [
       "500000500000"
      ]
     },
     "execution_count": 85,
     "metadata": {},
     "output_type": "execute_result"
    }
   ],
   "source": [
    "sum(numbers)"
   ]
  },
  {
   "cell_type": "code",
   "execution_count": 86,
   "metadata": {},
   "outputs": [
    {
     "name": "stdout",
     "output_type": "stream",
     "text": [
      "1\n",
      "3\n",
      "5\n",
      "7\n",
      "9\n",
      "11\n",
      "13\n",
      "15\n",
      "17\n",
      "19\n"
     ]
    }
   ],
   "source": [
    "numbers = list(range(1, 21, 2))\n",
    "for number in numbers:\n",
    "    print(number)"
   ]
  },
  {
   "cell_type": "code",
   "execution_count": 87,
   "metadata": {},
   "outputs": [
    {
     "name": "stdout",
     "output_type": "stream",
     "text": [
      "9\n",
      "12\n",
      "15\n",
      "18\n",
      "21\n",
      "24\n",
      "27\n",
      "30\n",
      "33\n",
      "36\n",
      "39\n",
      "42\n",
      "45\n",
      "48\n",
      "51\n",
      "54\n",
      "57\n",
      "60\n",
      "63\n",
      "66\n",
      "69\n",
      "72\n",
      "75\n",
      "78\n",
      "81\n",
      "84\n",
      "87\n",
      "90\n"
     ]
    }
   ],
   "source": [
    "numbers = list(range(3,31))\n",
    "for number in numbers:\n",
    "    print(3 * number)"
   ]
  },
  {
   "cell_type": "code",
   "execution_count": 88,
   "metadata": {},
   "outputs": [
    {
     "name": "stdout",
     "output_type": "stream",
     "text": [
      "1\n",
      "8\n",
      "27\n",
      "64\n",
      "125\n",
      "216\n",
      "343\n",
      "512\n",
      "729\n",
      "1000\n"
     ]
    }
   ],
   "source": [
    "numbers = list(range(1,11))\n",
    "for number in numbers:\n",
    "    print(number ** 3)"
   ]
  },
  {
   "cell_type": "code",
   "execution_count": 90,
   "metadata": {},
   "outputs": [
    {
     "name": "stdout",
     "output_type": "stream",
     "text": [
      "[1, 8, 27, 64, 125, 216, 343, 512, 729, 1000]\n"
     ]
    }
   ],
   "source": [
    "numbers =[number ** 3 for number in range(1, 11)]\n",
    "print(numbers)"
   ]
  },
  {
   "cell_type": "code",
   "execution_count": 91,
   "metadata": {},
   "outputs": [
    {
     "name": "stdout",
     "output_type": "stream",
     "text": [
      "[1, 8, 27]\n"
     ]
    }
   ],
   "source": [
    "print(numbers[:3])"
   ]
  },
  {
   "cell_type": "code",
   "execution_count": 93,
   "metadata": {},
   "outputs": [
    {
     "name": "stdout",
     "output_type": "stream",
     "text": [
      "[64, 125, 216]\n"
     ]
    }
   ],
   "source": [
    "print(numbers[3:6])"
   ]
  },
  {
   "cell_type": "code",
   "execution_count": 95,
   "metadata": {},
   "outputs": [
    {
     "name": "stdout",
     "output_type": "stream",
     "text": [
      "[512, 729, 1000]\n"
     ]
    }
   ],
   "source": [
    "print(numbers[-3:])"
   ]
  },
  {
   "cell_type": "code",
   "execution_count": 96,
   "metadata": {},
   "outputs": [
    {
     "name": "stdout",
     "output_type": "stream",
     "text": [
      "['badminton', 'table tennis', 'basketball']\n",
      "['badminton', 'table tennis', 'basketball']\n"
     ]
    }
   ],
   "source": [
    "favorite_sports = ['badminton', 'table tennis', 'basketball']\n",
    "friends_sports = favorite_sports[:]\n",
    "\n",
    "print(favorite_sports)\n",
    "print(friends_sports)"
   ]
  },
  {
   "cell_type": "code",
   "execution_count": 97,
   "metadata": {},
   "outputs": [
    {
     "name": "stdout",
     "output_type": "stream",
     "text": [
      "['badminton', 'table tennis', 'basketball', 'tennis']\n"
     ]
    }
   ],
   "source": [
    "favorite_sports.append('tennis')\n",
    "print(favorite_sports)"
   ]
  },
  {
   "cell_type": "code",
   "execution_count": 99,
   "metadata": {},
   "outputs": [
    {
     "name": "stdout",
     "output_type": "stream",
     "text": [
      "['badminton', 'table tennis', 'basketball', 'swimming']\n"
     ]
    }
   ],
   "source": [
    "friends_sports.append('swimming')\n",
    "print(friends_sports)"
   ]
  },
  {
   "cell_type": "code",
   "execution_count": 100,
   "metadata": {},
   "outputs": [
    {
     "name": "stdout",
     "output_type": "stream",
     "text": [
      "My favorite sports are \n",
      "badminton\n",
      "table tennis\n",
      "basketball\n",
      "tennis\n"
     ]
    }
   ],
   "source": [
    "print('My favorite sports are ')\n",
    "for favorite_sport in favorite_sports:\n",
    "    print(favorite_sport)"
   ]
  },
  {
   "cell_type": "code",
   "execution_count": 101,
   "metadata": {},
   "outputs": [
    {
     "name": "stdout",
     "output_type": "stream",
     "text": [
      "My friend's favorite sports are \n",
      "badminton\n",
      "table tennis\n",
      "basketball\n",
      "swimming\n"
     ]
    }
   ],
   "source": [
    "print(\"My friend's favorite sports are \")\n",
    "for friends_sport in friends_sports:\n",
    "    print(friends_sport)"
   ]
  },
  {
   "cell_type": "code",
   "execution_count": 102,
   "metadata": {},
   "outputs": [
    {
     "name": "stdout",
     "output_type": "stream",
     "text": [
      "The restaurant offers \n",
      "pizza\n",
      "noodles\n",
      "steak\n",
      "seafood\n",
      "chicken\n"
     ]
    }
   ],
   "source": [
    "food_types = ('pizza', 'noodles', 'steak', 'seafood', 'chicken')\n",
    "print('The restaurant offers ')\n",
    "for food_type in food_types:\n",
    "    print(food_type)"
   ]
  },
  {
   "cell_type": "code",
   "execution_count": 104,
   "metadata": {},
   "outputs": [
    {
     "ename": "TypeError",
     "evalue": "'tuple' object does not support item assignment",
     "output_type": "error",
     "traceback": [
      "\u001b[1;31m---------------------------------------------------------------------------\u001b[0m",
      "\u001b[1;31mTypeError\u001b[0m                                 Traceback (most recent call last)",
      "\u001b[1;32m<ipython-input-104-c6812774c4f0>\u001b[0m in \u001b[0;36m<module>\u001b[1;34m()\u001b[0m\n\u001b[1;32m----> 1\u001b[1;33m \u001b[0mfood_types\u001b[0m\u001b[1;33m[\u001b[0m\u001b[1;36m1\u001b[0m\u001b[1;33m]\u001b[0m \u001b[1;33m=\u001b[0m \u001b[1;34m'dessert'\u001b[0m\u001b[1;33m\u001b[0m\u001b[0m\n\u001b[0m",
      "\u001b[1;31mTypeError\u001b[0m: 'tuple' object does not support item assignment"
     ]
    }
   ],
   "source": [
    "food_types[1] = 'dessert' "
   ]
  },
  {
   "cell_type": "code",
   "execution_count": 106,
   "metadata": {},
   "outputs": [
    {
     "name": "stdout",
     "output_type": "stream",
     "text": [
      "The restaurant offers updated food types as\n",
      "pizza\n",
      "dessert\n",
      "wine\n",
      "seafood\n",
      "chicken\n"
     ]
    }
   ],
   "source": [
    "food_types = ('pizza', 'dessert', 'wine', 'seafood', 'chicken')\n",
    "print('The restaurant offers updated food types as')\n",
    "for food_type in food_types:\n",
    "    print(food_type)"
   ]
  },
  {
   "cell_type": "markdown",
   "metadata": {},
   "source": [
    "# Chapter 5"
   ]
  },
  {
   "cell_type": "code",
   "execution_count": 107,
   "metadata": {},
   "outputs": [],
   "source": [
    "cars = ['Toyota', 'Benz', 'Audi', 'Nissan', 'Smart', 'bmw', 'Range Rover', 'Honda', 'Jaguar', 'Buick']"
   ]
  },
  {
   "cell_type": "code",
   "execution_count": 108,
   "metadata": {},
   "outputs": [
    {
     "name": "stdout",
     "output_type": "stream",
     "text": [
      "Is car == 'Audi'? I predict True\n",
      "True\n"
     ]
    }
   ],
   "source": [
    "car = 'Audi'\n",
    "print(\"Is car == 'Audi'? I predict True\")\n",
    "print(car == 'Audi')"
   ]
  },
  {
   "cell_type": "code",
   "execution_count": 109,
   "metadata": {},
   "outputs": [
    {
     "name": "stdout",
     "output_type": "stream",
     "text": [
      "\n",
      "Is car == 'Subaru'? I predict False\n",
      "False\n"
     ]
    }
   ],
   "source": [
    "print(\"\\nIs car == 'Subaru'? I predict False\")\n",
    "print(car == 'Subaru')"
   ]
  },
  {
   "cell_type": "code",
   "execution_count": 111,
   "metadata": {},
   "outputs": [
    {
     "name": "stdout",
     "output_type": "stream",
     "text": [
      "Is car == 'Toyota'? I predict True\n",
      "True\n"
     ]
    }
   ],
   "source": [
    "car = 'Toyota'\n",
    "print(\"Is car == 'Toyota'? I predict True\")\n",
    "print(car == 'Toyota')"
   ]
  },
  {
   "cell_type": "code",
   "execution_count": 112,
   "metadata": {},
   "outputs": [
    {
     "name": "stdout",
     "output_type": "stream",
     "text": [
      "This is not in the original cars list\n"
     ]
    }
   ],
   "source": [
    "requested_car = 'Geely'\n",
    "if requested_car != 'Audi':\n",
    "    print(\"This is not in the original cars list\")"
   ]
  },
  {
   "cell_type": "code",
   "execution_count": 114,
   "metadata": {},
   "outputs": [
    {
     "data": {
      "text/plain": [
       "True"
      ]
     },
     "execution_count": 114,
     "metadata": {},
     "output_type": "execute_result"
    }
   ],
   "source": [
    "car = 'Audi'\n",
    "car.lower() == 'audi'"
   ]
  },
  {
   "cell_type": "code",
   "execution_count": 115,
   "metadata": {},
   "outputs": [],
   "source": [
    "numbers = [1, 8, 27, 64, 125, 216, 343, 512, 729, 1000]"
   ]
  },
  {
   "cell_type": "code",
   "execution_count": 116,
   "metadata": {},
   "outputs": [
    {
     "data": {
      "text/plain": [
       "False"
      ]
     },
     "execution_count": 116,
     "metadata": {},
     "output_type": "execute_result"
    }
   ],
   "source": [
    "number_1 = 100\n",
    "number_2 = 10000\n",
    "number_1 > 500 and number_2 >500"
   ]
  },
  {
   "cell_type": "code",
   "execution_count": 118,
   "metadata": {},
   "outputs": [
    {
     "data": {
      "text/plain": [
       "True"
      ]
     },
     "execution_count": 118,
     "metadata": {},
     "output_type": "execute_result"
    }
   ],
   "source": [
    "number_1 > min(numbers)"
   ]
  },
  {
   "cell_type": "code",
   "execution_count": 119,
   "metadata": {},
   "outputs": [
    {
     "data": {
      "text/plain": [
       "True"
      ]
     },
     "execution_count": 119,
     "metadata": {},
     "output_type": "execute_result"
    }
   ],
   "source": [
    "number_1 > min(numbers) and number_2 > min(numbers)"
   ]
  },
  {
   "cell_type": "code",
   "execution_count": 120,
   "metadata": {},
   "outputs": [
    {
     "data": {
      "text/plain": [
       "False"
      ]
     },
     "execution_count": 120,
     "metadata": {},
     "output_type": "execute_result"
    }
   ],
   "source": [
    "number_1 > max(numbers) and number_2 > max(numbers)"
   ]
  },
  {
   "cell_type": "code",
   "execution_count": 121,
   "metadata": {},
   "outputs": [
    {
     "data": {
      "text/plain": [
       "True"
      ]
     },
     "execution_count": 121,
     "metadata": {},
     "output_type": "execute_result"
    }
   ],
   "source": [
    "number_1 > max(numbers) or number_2 > max(numbers)"
   ]
  },
  {
   "cell_type": "code",
   "execution_count": 123,
   "metadata": {},
   "outputs": [
    {
     "name": "stdout",
     "output_type": "stream",
     "text": [
      "Subaru not in the original cars list.\n"
     ]
    }
   ],
   "source": [
    "car = 'subaru'\n",
    "if car not in cars:\n",
    "    print(car.title()+\" not in the original cars list.\")"
   ]
  },
  {
   "cell_type": "code",
   "execution_count": 126,
   "metadata": {},
   "outputs": [
    {
     "name": "stdout",
     "output_type": "stream",
     "text": [
      "BMW is in the original cars list.\n"
     ]
    }
   ],
   "source": [
    "car = 'bmw'\n",
    "if car in cars:\n",
    "    print(car.upper()+\" is in the original cars list.\")"
   ]
  },
  {
   "cell_type": "code",
   "execution_count": 127,
   "metadata": {},
   "outputs": [],
   "source": [
    "alien_color = 'red'"
   ]
  },
  {
   "cell_type": "code",
   "execution_count": 128,
   "metadata": {},
   "outputs": [],
   "source": [
    "if alien_color == 'green':\n",
    "    print(\"You've just earned 5 pooints.\")"
   ]
  },
  {
   "cell_type": "code",
   "execution_count": 129,
   "metadata": {},
   "outputs": [
    {
     "name": "stdout",
     "output_type": "stream",
     "text": [
      "You've just earned 5 pooints.\n"
     ]
    }
   ],
   "source": [
    "alien_color = 'green'\n",
    "if alien_color == 'green':\n",
    "    print(\"You've just earned 5 pooints.\")"
   ]
  },
  {
   "cell_type": "code",
   "execution_count": 132,
   "metadata": {},
   "outputs": [
    {
     "name": "stdout",
     "output_type": "stream",
     "text": [
      "You've just earned 10 points.\n"
     ]
    }
   ],
   "source": [
    "alien_color = 'red'\n",
    "if alien_color == 'green':\n",
    "    print(\"You've just earned 5 pooints.\")\n",
    "else:\n",
    "    print(\"You've just earned 10 points.\")"
   ]
  },
  {
   "cell_type": "code",
   "execution_count": 133,
   "metadata": {},
   "outputs": [
    {
     "name": "stdout",
     "output_type": "stream",
     "text": [
      "You've just earned 15 points.\n"
     ]
    }
   ],
   "source": [
    "if alien_color == 'green':\n",
    "    print(\"You've just earned 5 points.\")\n",
    "elif alien_color == 'yellow':\n",
    "    print(\"You've just earned 10 points.\")\n",
    "elif alien_color == 'red':\n",
    "    print(\"You've just earned 15 points.\")"
   ]
  },
  {
   "cell_type": "code",
   "execution_count": 134,
   "metadata": {},
   "outputs": [
    {
     "name": "stdout",
     "output_type": "stream",
     "text": [
      "This person is a teenager.\n"
     ]
    }
   ],
   "source": [
    "life_stage = 15\n",
    "if life_stage < 2:\n",
    "    print(\"This person is a baby.\")\n",
    "elif life_stage >=2 and life_stage < 4:\n",
    "    print(\"This person is a toddler.\")\n",
    "elif life_stage >=4 and life_stage <13:\n",
    "    print(\"This person is a kid.\")\n",
    "elif life_stage >=13 and life_stage <20:\n",
    "    print(\"This person is a teenager.\")\n",
    "elif life_stage >=20 and life_stage <65:\n",
    "    print(\"This person is an adult.\")\n",
    "elif life_stage >=65:\n",
    "    print(\"This person is an elder.\")\n",
    "\n"
   ]
  },
  {
   "cell_type": "code",
   "execution_count": 138,
   "metadata": {},
   "outputs": [
    {
     "name": "stdout",
     "output_type": "stream",
     "text": [
      "Hello admin, would you like to see a status report?\n",
      "Hello Eric, thank you for logging in again.\n",
      "Hello Jason, thank you for logging in again.\n",
      "Hello Amanda, thank you for logging in again.\n",
      "Hello Jennifer, thank you for logging in again.\n"
     ]
    }
   ],
   "source": [
    "user_names = ['admin', 'eric', 'jason', 'amanda', 'jennifer']\n",
    "\n",
    "for user_name in user_names:\n",
    "    if user_name == 'admin':\n",
    "        print(\"Hello admin, would you like to see a status report?\")\n",
    "    elif user_name in user_names:\n",
    "        print(\"Hello \"+user_name.title()+\", thank you for logging in again.\")"
   ]
  },
  {
   "cell_type": "code",
   "execution_count": 140,
   "metadata": {},
   "outputs": [
    {
     "name": "stdout",
     "output_type": "stream",
     "text": [
      "Hello admin, would you like to see a status report?\n",
      "Hello Eric, thank you for logging in again.\n",
      "Hello Jason, thank you for logging in again.\n",
      "Hello Amanda, thank you for logging in again.\n",
      "Hello Jennifer, thank you for logging in again.\n"
     ]
    }
   ],
   "source": [
    "user_names = ['admin', 'eric', 'jason', 'amanda', 'jennifer']\n",
    "loggin_names = ['admin', 'eric', 'jason', 'amanda', 'jennifer']\n",
    "\n",
    "for loggin_name in loggin_names:\n",
    "    if loggin_name == 'admin':\n",
    "        print(\"Hello admin, would you like to see a status report?\")\n",
    "    elif loggin_name in user_names:\n",
    "        print(\"Hello \"+loggin_name.title()+\", thank you for logging in again.\")"
   ]
  },
  {
   "cell_type": "code",
   "execution_count": 142,
   "metadata": {},
   "outputs": [
    {
     "name": "stdout",
     "output_type": "stream",
     "text": [
      "We need to find more users.\n"
     ]
    }
   ],
   "source": [
    "user_names = ['admin', 'eric', 'jason', 'amanda', 'jennifer']\n",
    "loggin_names = []\n",
    "\n",
    "if loggin_names:\n",
    "    for loggin_name in loggin_names:\n",
    "        if loggin_name == 'admin':\n",
    "            print(\"Hello admin, would you like to see a status report?\")\n",
    "        elif loggin_name in user_names:\n",
    "                print(\"Hello \"+loggin_name.title()+\", thank you for logging in again.\")\n",
    "else:\n",
    "    print(\"We need to find more users.\")"
   ]
  },
  {
   "cell_type": "code",
   "execution_count": 164,
   "metadata": {},
   "outputs": [],
   "source": [
    "current_users = ['admin', 'eric', 'jason', 'amanda', 'jennifer', 'dora']"
   ]
  },
  {
   "cell_type": "code",
   "execution_count": 167,
   "metadata": {},
   "outputs": [
    {
     "name": "stdout",
     "output_type": "stream",
     "text": [
      "The user name is OK. Please go on with it.\n",
      "The user name has been used. Please enter another one.\n",
      "The user name has been used. Please enter another one.\n",
      "The user name is OK. Please go on with it.\n",
      "The user name is OK. Please go on with it.\n"
     ]
    }
   ],
   "source": [
    "new_users = ['tony', 'eric', 'JASON', 'stella', 'star']\n",
    "\n",
    "for new_user in new_users:\n",
    "    if new_user in current_users or new_user.lower() in current_users or new_user.upper() in current_users:\n",
    "        print(\"The user name has been used. Please enter another one.\")\n",
    "    else:\n",
    "        print(\"The user name is OK. Please go on with it.\")\n",
    "        "
   ]
  },
  {
   "cell_type": "code",
   "execution_count": 169,
   "metadata": {},
   "outputs": [],
   "source": [
    "list_numbers = [ 1, 2, 3, 4, 5, 6, 7, 8, 9]"
   ]
  },
  {
   "cell_type": "code",
   "execution_count": 172,
   "metadata": {},
   "outputs": [
    {
     "name": "stdout",
     "output_type": "stream",
     "text": [
      "1st\n",
      "2nd\n",
      "3rd\n",
      "4th\n",
      "5th\n",
      "6th\n",
      "7th\n",
      "8th\n",
      "9th\n"
     ]
    }
   ],
   "source": [
    "for list_number in list_numbers:\n",
    "    if list_number == 1:\n",
    "        print(\"1st\")\n",
    "    elif list_number == 2:\n",
    "        print(\"2nd\")\n",
    "    elif list_number == 3:\n",
    "        print(\"3rd\")\n",
    "    else:\n",
    "        print(str(list_number)+\"th\")"
   ]
  },
  {
   "cell_type": "markdown",
   "metadata": {},
   "source": [
    "# Chapter 6"
   ]
  },
  {
   "cell_type": "code",
   "execution_count": 174,
   "metadata": {
    "scrolled": true
   },
   "outputs": [
    {
     "name": "stdout",
     "output_type": "stream",
     "text": [
      "Mandy\n",
      "Moore\n",
      "23\n",
      "Shanghai\n"
     ]
    }
   ],
   "source": [
    "person_info = {'first_name': 'Mandy', 'last_name': 'Moore', 'age':'23', 'city':'Shanghai'}\n",
    "print(person_info['first_name'])\n",
    "print(person_info['last_name'])\n",
    "print(person_info['age'])\n",
    "print(person_info['city'])"
   ]
  },
  {
   "cell_type": "code",
   "execution_count": 175,
   "metadata": {},
   "outputs": [
    {
     "name": "stdout",
     "output_type": "stream",
     "text": [
      "{'Mandy': 2, 'John': 4, 'Stella': 5, 'Sandy': 7, 'Aidan': 8}\n"
     ]
    }
   ],
   "source": [
    "favorite_numbers = {'Mandy':2, 'John':4, 'Stella':5, 'Sandy':7, 'Aidan':8}\n",
    "print(favorite_numbers)"
   ]
  },
  {
   "cell_type": "code",
   "execution_count": 179,
   "metadata": {},
   "outputs": [
    {
     "name": "stdout",
     "output_type": "stream",
     "text": [
      "\n",
      "list:a collection of items in a particular order \n",
      "\n",
      "variable:one kind of data\n",
      "\n",
      "dictionary:a collection of key-value pairs\n",
      "\n",
      "string:a row or column of variables\n",
      "\n",
      "integer:one kind of data\n",
      "\n",
      "list:\n",
      "a collection of items in a particular order \n",
      "\n",
      "variable:\n",
      "one kind of data\n",
      "\n",
      "dictionary:\n",
      "a collection of key-value pairs\n",
      "\n",
      "string:\n",
      "a row or column of variables\n",
      "\n",
      "integer:\n",
      "one kind of data\n"
     ]
    }
   ],
   "source": [
    "glossary = {'list':'a collection of items in a particular order ',\n",
    "           'variable': 'one kind of data',\n",
    "           'dictionary':'a collection of key-value pairs',\n",
    "           'string':'a row or column of variables',\n",
    "           'integer': 'one kind of data'}\n",
    "\n",
    "for key,value in glossary.items():\n",
    "    print(\"\\n\"+ key+\":\"+value)\n",
    "\n",
    "for key,value in glossary.items():\n",
    "    print(\"\\n\"+ key+\":\")\n",
    "    print(value)\n",
    "    "
   ]
  },
  {
   "cell_type": "code",
   "execution_count": 181,
   "metadata": {},
   "outputs": [
    {
     "name": "stdout",
     "output_type": "stream",
     "text": [
      "The Nile runs through Egypt.\n",
      "The Yangze runs through China.\n",
      "The Amazon runs through America.\n"
     ]
    }
   ],
   "source": [
    "rivers = {'nile':'egypt', 'yangze':'china', 'amazon':'america'}\n",
    "for river, country in rivers.items():\n",
    "    print(\"The \"+river.title()+\" runs through \"+country.title()+\".\")"
   ]
  },
  {
   "cell_type": "code",
   "execution_count": 182,
   "metadata": {},
   "outputs": [
    {
     "name": "stdout",
     "output_type": "stream",
     "text": [
      "Nile\n",
      "Yangze\n",
      "Amazon\n"
     ]
    }
   ],
   "source": [
    "for river in rivers.keys():\n",
    "    print(river.title())"
   ]
  },
  {
   "cell_type": "code",
   "execution_count": 183,
   "metadata": {},
   "outputs": [
    {
     "name": "stdout",
     "output_type": "stream",
     "text": [
      "Egypt\n",
      "China\n",
      "America\n"
     ]
    }
   ],
   "source": [
    "for country in rivers.values():\n",
    "    print(country.title())"
   ]
  },
  {
   "cell_type": "code",
   "execution_count": 184,
   "metadata": {},
   "outputs": [],
   "source": [
    "favorite_languages = {\n",
    "    'jen':'python',\n",
    "    'sarah':'c',\n",
    "    'edward':'ruby',\n",
    "    'phil':'python',\n",
    "}"
   ]
  },
  {
   "cell_type": "code",
   "execution_count": 185,
   "metadata": {},
   "outputs": [],
   "source": [
    "list_persons = ['jen', 'eric', 'amanda', 'phil']"
   ]
  },
  {
   "cell_type": "code",
   "execution_count": 187,
   "metadata": {},
   "outputs": [
    {
     "name": "stdout",
     "output_type": "stream",
     "text": [
      "Thank you, Jen, for taking the responding.\n",
      "Eric, you are invited to take the poll.\n",
      "Amanda, you are invited to take the poll.\n",
      "Thank you, Phil, for taking the responding.\n"
     ]
    }
   ],
   "source": [
    "for list_person in list_persons:\n",
    "    if list_person in favorite_languages.keys():\n",
    "        print(\"Thank you, \"+list_person.title()+\", for taking the responding.\")\n",
    "    else:\n",
    "        print(list_person.title()+\", you are invited to take the poll.\")"
   ]
  },
  {
   "cell_type": "code",
   "execution_count": 4,
   "metadata": {},
   "outputs": [
    {
     "name": "stdout",
     "output_type": "stream",
     "text": [
      "\n",
      "User name:mmorre\n",
      "\tFull_name:Mandy Moore\n",
      "\tAge:23\n",
      "\tLocation:Shanghai\n",
      "\n",
      "User name:azhang\n",
      "\tFull_name:Allen Zhang\n",
      "\tAge:18\n",
      "\tLocation:Beijing\n",
      "\n",
      "User name:twang\n",
      "\tFull_name:Timmy Wang\n",
      "\tAge:28\n",
      "\tLocation:shenzhen\n"
     ]
    }
   ],
   "source": [
    "people = {'mmorre':{\n",
    "    'first_name': 'Mandy',\n",
    "    'last_name': 'Moore',\n",
    "    'age':'23', \n",
    "    'city':'Shanghai'},\n",
    "          'azhang':{\n",
    "    'first_name': 'allen',\n",
    "    'last_name': 'zhang',\n",
    "    'age':'18', \n",
    "    'city':'Beijing'},\n",
    "          'twang':{\n",
    "    'first_name': 'timmy',\n",
    "    'last_name': 'wang',\n",
    "    'age':'28', \n",
    "    'city':'shenzhen'},\n",
    "         }\n",
    "\n",
    "for username, user_info in people.items():\n",
    "    print(\"\\nUser name:\"+username)\n",
    "    full_name = user_info['first_name']+\" \"+user_info['last_name']\n",
    "    \n",
    "    print(\"\\tFull_name:\" + full_name.title())\n",
    "    print(\"\\tAge:\"+user_info['age'])\n",
    "    print(\"\\tLocation:\"+user_info['city'])\n",
    "          "
   ]
  },
  {
   "cell_type": "code",
   "execution_count": 8,
   "metadata": {},
   "outputs": [
    {
     "name": "stdout",
     "output_type": "stream",
     "text": [
      "doggie: \n",
      "\tKind: shepard dog\n",
      "\tOwner's name: Jimmy\n",
      "birddie: \n",
      "\tKind: bird\n",
      "\tOwner's name: Amanda\n",
      "kitty: \n",
      "\tKind: cat\n",
      "\tOwner's name: Alex\n"
     ]
    }
   ],
   "source": [
    "pets = {'doggie':{\n",
    "        'kind':'shepard dog',\n",
    "        'owner_name':'jimmy',\n",
    "        },\n",
    "        'birddie':{\n",
    "            'kind':'bird',\n",
    "            'owner_name':'amanda',\n",
    "        },\n",
    "        'kitty':{\n",
    "            'kind': 'cat',\n",
    "            'owner_name':'alex',\n",
    "        },  \n",
    "}\n",
    "\n",
    "for petname, pet_info in pets.items():\n",
    "    print(petname+\": \")\n",
    "    print(\"\\tKind: \"+pet_info['kind'])\n",
    "    print(\"\\tOwner's name: \"+pet_info['owner_name'].title())"
   ]
  },
  {
   "cell_type": "code",
   "execution_count": 9,
   "metadata": {},
   "outputs": [
    {
     "name": "stdout",
     "output_type": "stream",
     "text": [
      "Shanghai: \n",
      "\tCountry: China\n",
      "\tPopulation: 30 million\n",
      "\tFact: financial center\n",
      "Beijing: \n",
      "\tCountry: China\n",
      "\tPopulation: 30 million\n",
      "\tFact: capital\n",
      "London: \n",
      "\tCountry: U.K.\n",
      "\tPopulation: 7 million\n",
      "\tFact: capital\n"
     ]
    }
   ],
   "source": [
    "cities = {'Shanghai':\n",
    "         {'country':'china',\n",
    "         'population':'30 million',\n",
    "         'fact': 'financial center'},\n",
    "         'Beijing':{\n",
    "             'country':'china',\n",
    "             'population':'30 million',\n",
    "             'fact': 'capital'},\n",
    "         'London':{\n",
    "             'country':'U.K.',\n",
    "             'population':'7 million',\n",
    "             'fact': 'capital'},\n",
    "         }\n",
    "for cityname, city_info in cities.items():\n",
    "    print(cityname+\": \")\n",
    "    print(\"\\tCountry: \"+city_info['country'].title())\n",
    "    print(\"\\tPopulation: \"+city_info['population'])\n",
    "    print(\"\\tFact: \"+city_info['fact'])"
   ]
  },
  {
   "cell_type": "markdown",
   "metadata": {},
   "source": [
    "# Chapter 7"
   ]
  },
  {
   "cell_type": "code",
   "execution_count": 11,
   "metadata": {},
   "outputs": [
    {
     "name": "stdout",
     "output_type": "stream",
     "text": [
      "Please enter a car name: benz\n",
      "Let me see if I can find you a Benz\n"
     ]
    }
   ],
   "source": [
    "car = input(\"Please enter a car name: \")\n",
    "print (\"Let me see if I can find you a \"+car.title())"
   ]
  },
  {
   "cell_type": "code",
   "execution_count": 14,
   "metadata": {},
   "outputs": [
    {
     "name": "stdout",
     "output_type": "stream",
     "text": [
      "Please enter the number of people for dinner: 9\n",
      "Please wait patiently for your table.\n"
     ]
    }
   ],
   "source": [
    "dinner_people = input(\"Please enter the number of people for dinner: \")\n",
    "if int(dinner_people) > 8:\n",
    "    print(\"Please wait patiently for your table.\")\n",
    "else:\n",
    "    print(\"Your table is ready. Please enjoy your dinner.\")"
   ]
  },
  {
   "cell_type": "code",
   "execution_count": 16,
   "metadata": {},
   "outputs": [
    {
     "name": "stdout",
     "output_type": "stream",
     "text": [
      "Please enter a number: 25\n",
      "This number isn't a multiple of 10.\n"
     ]
    }
   ],
   "source": [
    "number = input(\"Please enter a number: \")\n",
    "if int(number) % 10 == 0:\n",
    "    print(\"This number is a multiple of 10.\")\n",
    "else:\n",
    "    print(\"This number isn't a multiple of 10.\")"
   ]
  },
  {
   "cell_type": "code",
   "execution_count": 1,
   "metadata": {},
   "outputs": [
    {
     "name": "stdout",
     "output_type": "stream",
     "text": [
      "Please enter the name of a pizza topping:\n",
      "Enter 'quit' when you are finished.mushroom\n",
      "You've added mushroom to your pizza.\n",
      "Please enter the name of a pizza topping:\n",
      "Enter 'quit' when you are finished.extra cheese\n",
      "You've added extra cheese to your pizza.\n",
      "Please enter the name of a pizza topping:\n",
      "Enter 'quit' when you are finished.quit\n"
     ]
    }
   ],
   "source": [
    "pizza_topping = \"Please enter the name of a pizza topping:\"\n",
    "pizza_topping += \"\\nEnter 'quit' when you are finished.\"\n",
    "\n",
    "active = True\n",
    "while active:\n",
    "    message = input(pizza_topping)\n",
    "    \n",
    "    if message == 'quit':\n",
    "        message = False\n",
    "        break\n",
    "    else:\n",
    "        print(\"You've added \"+ message +\" to your pizza.\")"
   ]
  },
  {
   "cell_type": "code",
   "execution_count": 5,
   "metadata": {},
   "outputs": [
    {
     "name": "stdout",
     "output_type": "stream",
     "text": [
      "Please enter your age: 15\n",
      "The cost of your movie ticket is $15.\n"
     ]
    }
   ],
   "source": [
    "age = input(\"Please enter your age: \")\n",
    "\n",
    "while int(age) < 3:\n",
    "    print(\"The cost of your movie ticket is zero.\")\n",
    "    break\n",
    "    \n",
    "while int(age) >= 3 and int(age) < 12:\n",
    "    print(\"The cost of your movie ticket is $10.\")\n",
    "    break\n",
    "    \n",
    "while int(age) >= 12:\n",
    "    print(\"The cost of your movie ticket is $15.\")\n",
    "    break\n",
    "    \n",
    "    \n",
    "    "
   ]
  },
  {
   "cell_type": "code",
   "execution_count": 8,
   "metadata": {},
   "outputs": [
    {
     "name": "stdout",
     "output_type": "stream",
     "text": [
      "Tuna Sandwich\n",
      "\n",
      "Salmon Sandwich\n",
      "\n",
      "Egg Sandwich\n",
      "\n",
      "Chicken Sandwich\n",
      "\n",
      "I've made your chicken sandwich.\n",
      "I've made your egg sandwich.\n",
      "I've made your salmon sandwich.\n",
      "I've made your tuna sandwich.\n",
      "\n",
      "The following sandwiches have been made:\n",
      "Chicken Sandwich\n",
      "Egg Sandwich\n",
      "Salmon Sandwich\n",
      "Tuna Sandwich\n"
     ]
    }
   ],
   "source": [
    "sandwich_orders =['tuna sandwich', 'salmon sandwich', 'egg sandwich', 'chicken sandwich']\n",
    "\n",
    "for sandwich_order in sandwich_orders:\n",
    "    print(sandwich_order.title()+\"\\n\")\n",
    "\n",
    "finished_sandwiches = []\n",
    "\n",
    "while sandwich_orders:\n",
    "    finished_sandwich = sandwich_orders.pop()\n",
    "    print(\"I've made your \"+ finished_sandwich+\".\")\n",
    "    \n",
    "    finished_sandwiches.append(finished_sandwich)\n",
    "\n",
    "print(\"\\nThe following sandwiches have been made:\")\n",
    "for finished_sandwich in finished_sandwiches:\n",
    "    print(finished_sandwich.title())\n"
   ]
  },
  {
   "cell_type": "code",
   "execution_count": 10,
   "metadata": {},
   "outputs": [
    {
     "name": "stdout",
     "output_type": "stream",
     "text": [
      "The deli has run out of pastrami sandwich.\n",
      "['tuna sandwich', 'salmon sandwich', 'egg sandwich', 'chicken sandwich']\n"
     ]
    }
   ],
   "source": [
    "sandwich_orders =['tuna sandwich', 'pastrami sandwich', \n",
    "                      'salmon sandwich', 'pastrami sandwich', 'egg sandwich', 'pastrami sandwich','chicken sandwich']\n",
    "print(\"The deli has run out of pastrami sandwich.\")\n",
    "\n",
    "finished_sandwiches = []\n",
    "\n",
    "while 'pastrami sandwich' in sandwich_orders:\n",
    "    sandwich_orders.remove('pastrami sandwich')\n",
    "\n",
    "finished_sandwiches = sandwich_orders\n",
    "print(finished_sandwiches)"
   ]
  },
  {
   "cell_type": "markdown",
   "metadata": {},
   "source": [
    "# Chapter 8"
   ]
  },
  {
   "cell_type": "code",
   "execution_count": 11,
   "metadata": {},
   "outputs": [
    {
     "name": "stdout",
     "output_type": "stream",
     "text": [
      "I've learned how to define and call a function in this chapter.\n"
     ]
    }
   ],
   "source": [
    "def display_message():\n",
    "    print(\"I've learned how to define and call a function in this chapter.\")\n",
    "\n",
    "display_message()"
   ]
  },
  {
   "cell_type": "code",
   "execution_count": 13,
   "metadata": {},
   "outputs": [
    {
     "name": "stdout",
     "output_type": "stream",
     "text": [
      "My favorite book is Alice in Wonderland.\n"
     ]
    }
   ],
   "source": [
    "def favorite_book(title):\n",
    "    print(\"My favorite book is \"+title+\".\")\n",
    "\n",
    "favorite_book('Alice in Wonderland')"
   ]
  },
  {
   "cell_type": "code",
   "execution_count": 17,
   "metadata": {},
   "outputs": [
    {
     "name": "stdout",
     "output_type": "stream",
     "text": [
      "You are requesting a size 8 shirt, and the following text should be printed on it:\n",
      "I love Shanghai.\n",
      "\n",
      "\n",
      "You are requesting a size 8 shirt, and the following text should be printed on it:\n",
      "I love Shanghai.\n"
     ]
    }
   ],
   "source": [
    "def make_shirt(shirt_size, shirt_text):\n",
    "    print(\"You are requesting a size \"+shirt_size+\" shirt, and the following text should be printed on it:\")\n",
    "    print(shirt_text)\n",
    "\n",
    "make_shirt('8', 'I love Shanghai.')\n",
    "print(\"\\n\") \n",
    "\n",
    "make_shirt(shirt_size='8', shirt_text='I love Shanghai.')"
   ]
  },
  {
   "cell_type": "code",
   "execution_count": 18,
   "metadata": {},
   "outputs": [
    {
     "name": "stdout",
     "output_type": "stream",
     "text": [
      "You are requesting a size L shirt, and the following text should be printed on it:\n",
      "I love python.\n",
      "You are requesting a size M shirt, and the following text should be printed on it:\n",
      "I love Shanghai\n"
     ]
    }
   ],
   "source": [
    "def make_shirt(shirt_size='L', shirt_text='I love python.'):\n",
    "    print(\"You are requesting a size \"+shirt_size+\" shirt, and the following text should be printed on it:\")\n",
    "    print(shirt_text)\n",
    "    \n",
    "make_shirt()\n",
    "make_shirt(shirt_size='M', shirt_text='I love Shanghai')"
   ]
  },
  {
   "cell_type": "code",
   "execution_count": 21,
   "metadata": {},
   "outputs": [
    {
     "name": "stdout",
     "output_type": "stream",
     "text": [
      "Shanghai is in China.\n",
      "Beijing is in China.\n",
      "London is in United Kingdom.\n"
     ]
    }
   ],
   "source": [
    "def describe_city(city, country='China'):\n",
    "    print(city.title()+\" is in \"+country.title()+\".\")\n",
    "\n",
    "describe_city('shanghai')\n",
    "describe_city(city='beijing')\n",
    "describe_city('london','united kingdom')"
   ]
  },
  {
   "cell_type": "code",
   "execution_count": 24,
   "metadata": {},
   "outputs": [
    {
     "name": "stdout",
     "output_type": "stream",
     "text": [
      "Shanghai, China\n",
      "Paris, France\n",
      "Washington, America\n"
     ]
    }
   ],
   "source": [
    "def city_country(city, country):\n",
    "    city_and_country = city + ', '+ country\n",
    "    return city_and_country.title()\n",
    "\n",
    "city_location = city_country('shanghai','china')\n",
    "print(city_location)\n",
    "city_location = city_country('paris','france')\n",
    "print(city_location)\n",
    "city_location = city_country('washington','america')\n",
    "print(city_location)"
   ]
  },
  {
   "cell_type": "code",
   "execution_count": 27,
   "metadata": {},
   "outputs": [
    {
     "name": "stdout",
     "output_type": "stream",
     "text": [
      "{'artist name': 'jesse j', 'title': 'price tag'}\n",
      "{'artist name': 'taylor swift', 'title': 'trouble'}\n",
      "{'artist name': 'west life', 'title': 'seasons in the sun', 'number of tracks': '14'}\n"
     ]
    }
   ],
   "source": [
    "def make_album(artist_name, title, track_number=''):\n",
    "    album = {'artist name': artist_name, 'title': title}\n",
    "    if track_number:\n",
    "        album['number of tracks'] = track_number\n",
    "    return album\n",
    "\n",
    "album_recorded = make_album('jesse j', 'price tag')\n",
    "print(album_recorded)\n",
    "album_recorded = make_album('taylor swift', 'trouble')\n",
    "print(album_recorded)\n",
    "album_recorded = make_album('west life', 'seasons in the sun', '14')\n",
    "print(album_recorded)"
   ]
  },
  {
   "cell_type": "code",
   "execution_count": 33,
   "metadata": {},
   "outputs": [
    {
     "name": "stdout",
     "output_type": "stream",
     "text": [
      "\n",
      "Please enter an artist name: \n",
      "(enter 'q' at any time to quit)\n",
      "Artist name: taylor swift\n",
      "\n",
      "Please enter an album title: \n",
      "Album title: trouble\n",
      "\n",
      "Please enter an artist name: \n",
      "(enter 'q' at any time to quit)\n",
      "Artist name: q\n",
      "{'artist name': 'taylor swift', 'title': 'trouble'}\n"
     ]
    }
   ],
   "source": [
    "def make_album(artist_name, title, track_number=''):\n",
    "    album = {'artist name': artist_name, 'title': title}\n",
    "    if track_number:\n",
    "        album['number of tracks'] = track_number\n",
    "    return album\n",
    "\n",
    "while True:\n",
    "    print(\"\\nPlease enter an artist name: \")\n",
    "    print(\"(enter 'q' at any time to quit)\")\n",
    "    \n",
    "    f_album = input(\"Artist name: \")\n",
    "    if f_album == 'q':\n",
    "        break\n",
    "        \n",
    "    print(\"\\nPlease enter an album title: \")\n",
    "    s_album = input(\"Album title: \")\n",
    "    if s_album == 'q':\n",
    "        break\n",
    "    album_entered = make_album(f_album, s_album)\n",
    "    \n",
    "print(album_entered)"
   ]
  },
  {
   "cell_type": "code",
   "execution_count": 36,
   "metadata": {},
   "outputs": [
    {
     "name": "stdout",
     "output_type": "stream",
     "text": [
      "Allen\n",
      "Joey\n",
      "Chandler\n"
     ]
    }
   ],
   "source": [
    "magician_names = ['allen', 'joey', 'chandler']\n",
    "\n",
    "def show_magicians(names):\n",
    "    for name in names:\n",
    "        print(name.title())\n",
    "        \n",
    "show_magicians(magician_names)    "
   ]
  },
  {
   "cell_type": "code",
   "execution_count": 39,
   "metadata": {},
   "outputs": [
    {
     "name": "stdout",
     "output_type": "stream",
     "text": [
      "['the Great Allen', 'the Great Joey', 'the Great Chandler']\n",
      "Allen\n",
      "Joey\n",
      "Chandler\n"
     ]
    }
   ],
   "source": [
    "def make_great(names):\n",
    "    great_magicians = []\n",
    "    for name in names:\n",
    "        name_great = 'the Great '+ name.title()\n",
    "        great_magicians.append(name_great)\n",
    "    print(great_magicians)\n",
    "\n",
    "great_names = ['allen', 'joey', 'chandler']\n",
    "make_great_names = make_great(great_names)\n",
    "make_names = show_magicians(great_names)"
   ]
  },
  {
   "cell_type": "code",
   "execution_count": 40,
   "metadata": {},
   "outputs": [
    {
     "name": "stdout",
     "output_type": "stream",
     "text": [
      "\n",
      "The following toppings have been asked to be added to the ordered sandwich: \n",
      "-tuna\n",
      "\n",
      "The following toppings have been asked to be added to the ordered sandwich: \n",
      "-tomato\n",
      "-egg\n",
      "\n",
      "The following toppings have been asked to be added to the ordered sandwich: \n",
      "-egg\n",
      "-bacon\n",
      "-tuna\n"
     ]
    }
   ],
   "source": [
    "def make_sandwich(*toppings):\n",
    "    print(\"\\nThe following toppings have been asked to be added to the ordered sandwich: \")\n",
    "    for topping in toppings:\n",
    "        print(\"-\"+topping)\n",
    "\n",
    "make_sandwich('tuna')\n",
    "make_sandwich('tomato','egg')\n",
    "make_sandwich('egg','bacon','tuna')"
   ]
  },
  {
   "cell_type": "code",
   "execution_count": 42,
   "metadata": {},
   "outputs": [
    {
     "name": "stdout",
     "output_type": "stream",
     "text": [
      "{'first_name': 'zhuo', 'last_name': 'wu', 'location': 'shanghai', 'field': 'electronics'}\n"
     ]
    }
   ],
   "source": [
    "def build_profile(first, last,**user_info):\n",
    "    profile={}\n",
    "    profile['first_name'] = first\n",
    "    profile['last_name'] = last\n",
    "    for key, value in user_info.items():\n",
    "        profile[key]= value\n",
    "    return profile\n",
    "\n",
    "user_profile = build_profile('zhuo','wu', location='shanghai', field='electronics')\n",
    "print(user_profile)"
   ]
  },
  {
   "cell_type": "code",
   "execution_count": 43,
   "metadata": {},
   "outputs": [
    {
     "name": "stdout",
     "output_type": "stream",
     "text": [
      "{'manufacturer': 'subaru', 'model_name': 'outback', 'color': 'blue', 'tow_package': True}\n"
     ]
    }
   ],
   "source": [
    "def make_car(manufacturer, model_name, **car_info):\n",
    "    car_profile={}\n",
    "    car_profile['manufacturer'] = manufacturer\n",
    "    car_profile['model_name'] = model_name\n",
    "    for key, value in car_info.items():\n",
    "        car_profile[key] = value\n",
    "    return car_profile\n",
    "\n",
    "car = make_car('subaru', 'outback', color = 'blue', tow_package = True)\n",
    "print(car)\n",
    "    "
   ]
  },
  {
   "cell_type": "markdown",
   "metadata": {},
   "source": [
    "# Chapter 9"
   ]
  },
  {
   "cell_type": "code",
   "execution_count": 49,
   "metadata": {},
   "outputs": [],
   "source": [
    "class Restaurant():\n",
    "    \n",
    "    def __init__(self, restaurant_name, cuisin_type):\n",
    "        self.restaurant_name = restaurant_name\n",
    "        self.cuisin_type = cuisin_type\n",
    "        \n",
    "    def describe_restaurant(self):\n",
    "        print(self.restaurant_name.title()+\" has a cuisin type of \"+self.cuisin_type.title()+\".\")\n",
    "    \n",
    "    def open_restaurant(self):\n",
    "        print(\"The restaurant \"+self.restaurant_name.title()+\" is now open.\")\n",
    "    "
   ]
  },
  {
   "cell_type": "code",
   "execution_count": 50,
   "metadata": {},
   "outputs": [
    {
     "name": "stdout",
     "output_type": "stream",
     "text": [
      "Chuhua has a cuisin type of Japanese Cuisin.\n",
      "The restaurant Chuhua is now open.\n"
     ]
    }
   ],
   "source": [
    "restaurant = Restaurant('chuhua', 'japanese cuisin')\n",
    "restaurant.describe_restaurant()\n",
    "restaurant.open_restaurant()"
   ]
  },
  {
   "cell_type": "code",
   "execution_count": 51,
   "metadata": {},
   "outputs": [
    {
     "name": "stdout",
     "output_type": "stream",
     "text": [
      "Chuhua has a cuisin type of Japanese Cuisin.\n",
      "Haidilao has a cuisin type of Chongqing Hotpot.\n",
      "Merry has a cuisin type of Sichuan Cuisin.\n"
     ]
    }
   ],
   "source": [
    "restaurant1 = Restaurant('chuhua', 'japanese cuisin')\n",
    "restaurant2 = Restaurant('haidilao', 'chongqing hotpot')\n",
    "restaurant3 = Restaurant('merry', 'sichuan cuisin')\n",
    "\n",
    "restaurant1.describe_restaurant()\n",
    "restaurant2.describe_restaurant()\n",
    "restaurant3.describe_restaurant()"
   ]
  },
  {
   "cell_type": "code",
   "execution_count": 55,
   "metadata": {},
   "outputs": [],
   "source": [
    "class User():\n",
    "    \n",
    "    def __init__(self, first_name, last_name, location, profession):\n",
    "        self.first_name = first_name\n",
    "        self.last_name = last_name\n",
    "        self.location = location\n",
    "        self.profession = profession\n",
    "    \n",
    "    def describe_user(self):\n",
    "        print(self.first_name.title())\n",
    "        print(self.last_name.title())\n",
    "        print(self.location)\n",
    "        print(self.profession)\n",
    "    \n",
    "    def greet_user(self):\n",
    "        print(\"\\nHello, \"+self.first_name.title()+\" \"+self.last_name.title()+\", nice to meet you!\\n\")"
   ]
  },
  {
   "cell_type": "code",
   "execution_count": 56,
   "metadata": {},
   "outputs": [
    {
     "name": "stdout",
     "output_type": "stream",
     "text": [
      "Elon\n",
      "Musk\n",
      "california\n",
      "tesla\n",
      "\n",
      "Hello, Elon Musk, nice to meet you!\n",
      "\n"
     ]
    }
   ],
   "source": [
    "user1= User('elon', 'musk', 'california', 'tesla')\n",
    "User.describe_user(user1)\n",
    "User.greet_user(user1)"
   ]
  },
  {
   "cell_type": "code",
   "execution_count": 66,
   "metadata": {},
   "outputs": [],
   "source": [
    "class Restaurant():\n",
    "    \n",
    "    def __init__(self, restaurant_name, cuisin_type):\n",
    "        self.restaurant_name = restaurant_name\n",
    "        self.cuisin_type = cuisin_type\n",
    "        self.number_served = 5\n",
    "        \n",
    "    def describe_restaurant(self):\n",
    "        print(self.restaurant_name.title()+\" has a cuisin type of \"+self.cuisin_type.title()+\".\")\n",
    "    \n",
    "    def open_restaurant(self):\n",
    "        print(\"The restaurant \"+self.restaurant_name.title()+\" is now open.\")\n",
    "        \n",
    "    def table_served(self):\n",
    "        print(\"The restaurant has served \"+str(self.number_served)+\" tables.\")\n",
    "    "
   ]
  },
  {
   "cell_type": "code",
   "execution_count": 67,
   "metadata": {},
   "outputs": [
    {
     "name": "stdout",
     "output_type": "stream",
     "text": [
      "The restaurant has served 5 tables.\n"
     ]
    }
   ],
   "source": [
    "restaurant = Restaurant('macdonald','fast food')\n",
    "restaurant.table_served()"
   ]
  },
  {
   "cell_type": "code",
   "execution_count": 68,
   "metadata": {},
   "outputs": [],
   "source": [
    "class Restaurant():\n",
    "    \n",
    "    def __init__(self, restaurant_name, cuisin_type):\n",
    "        self.restaurant_name = restaurant_name\n",
    "        self.cuisin_type = cuisin_type\n",
    "        \n",
    "    def describe_restaurant(self):\n",
    "        print(self.restaurant_name.title()+\" has a cuisin type of \"+self.cuisin_type.title()+\".\")\n",
    "    \n",
    "    def open_restaurant(self):\n",
    "        print(\"The restaurant \"+self.restaurant_name.title()+\" is now open.\")\n",
    "        \n",
    "    def set_number_served(self,number_served):\n",
    "        print(\"The restaurant has served \"+str(number_served)+\" tables.\")"
   ]
  },
  {
   "cell_type": "code",
   "execution_count": 71,
   "metadata": {},
   "outputs": [
    {
     "name": "stdout",
     "output_type": "stream",
     "text": [
      "The restaurant has served 15 tables.\n"
     ]
    }
   ],
   "source": [
    "restaurant = Restaurant('macdonald','fast food')\n",
    "restaurant.set_number_served(15)"
   ]
  },
  {
   "cell_type": "code",
   "execution_count": 72,
   "metadata": {},
   "outputs": [],
   "source": [
    "class Restaurant():\n",
    "    \n",
    "    def __init__(self, restaurant_name, cuisin_type):\n",
    "        self.restaurant_name = restaurant_name\n",
    "        self.cuisin_type = cuisin_type\n",
    "        \n",
    "    def describe_restaurant(self):\n",
    "        print(self.restaurant_name.title()+\" has a cuisin type of \"+self.cuisin_type.title()+\".\")\n",
    "    \n",
    "    def open_restaurant(self):\n",
    "        print(\"The restaurant \"+self.restaurant_name.title()+\" is now open.\")\n",
    "        \n",
    "    def reading_number_served(self, number_served):\n",
    "        self.reading_number_served = number_served\n",
    "        print(\"The restaurant has served \"+str(self.reading_number_served)+\" tables.\")\n",
    "        \n",
    "    def increment_number_served(self,increment_number):\n",
    "        self.reading_number_served += increment_number\n",
    "        print(\"The restaurant has served \"+str(self.reading_number_served)+\" tables.\")"
   ]
  },
  {
   "cell_type": "code",
   "execution_count": 73,
   "metadata": {},
   "outputs": [
    {
     "name": "stdout",
     "output_type": "stream",
     "text": [
      "The restaurant has served 25 tables.\n",
      "The restaurant has served 31 tables.\n"
     ]
    }
   ],
   "source": [
    "restaurant = Restaurant('macdonald','fast food')\n",
    "restaurant.reading_number_served(25)\n",
    "restaurant.increment_number_served(6)"
   ]
  },
  {
   "cell_type": "code",
   "execution_count": 84,
   "metadata": {},
   "outputs": [],
   "source": [
    "class User():\n",
    "    \n",
    "    def __init__(self, first_name, last_name, location, profession):\n",
    "        self.first_name = first_name\n",
    "        self.last_name = last_name\n",
    "        self.location = location\n",
    "        self.profession = profession\n",
    "        self.login_attempts = 0\n",
    "    \n",
    "    def describe_user(self):\n",
    "        print(self.first_name.title())\n",
    "        print(self.last_name.title())\n",
    "        print(self.location)\n",
    "        print(self.profession)\n",
    "    \n",
    "    def greet_user(self):\n",
    "        print(\"\\nHello, \"+self.first_name.title()+\" \"+self.last_name.title()+\", nice to meet you!\\n\")\n",
    "        \n",
    "    def increment_login_attempts(self):\n",
    "        self.login_attempts += 1\n",
    "        print(str(self.login_attempts))\n",
    "    \n",
    "    def reset_login_attempts(self):\n",
    "        self.login_attempts = 0\n",
    "        print(str(self.login_attempts))"
   ]
  },
  {
   "cell_type": "code",
   "execution_count": 89,
   "metadata": {},
   "outputs": [
    {
     "name": "stdout",
     "output_type": "stream",
     "text": [
      "Elon\n",
      "Musk\n",
      "california\n",
      "tesla\n",
      "\n",
      "Hello, Elon Musk, nice to meet you!\n",
      "\n",
      "1\n",
      "2\n",
      "3\n",
      "4\n",
      "5\n",
      "0\n"
     ]
    }
   ],
   "source": [
    "user1= User('elon', 'musk', 'california', 'tesla')\n",
    "User.describe_user(user1)\n",
    "User.greet_user(user1)\n",
    "User.increment_login_attempts(user1)\n",
    "User.increment_login_attempts(user1)\n",
    "User.increment_login_attempts(user1)\n",
    "User.increment_login_attempts(user1)\n",
    "User.increment_login_attempts(user1)\n",
    "User.reset_login_attempts(user1)"
   ]
  },
  {
   "cell_type": "code",
   "execution_count": 96,
   "metadata": {},
   "outputs": [],
   "source": [
    "class Restaurant():\n",
    "    \n",
    "    def __init__(self, restaurant_name, cuisin_type):\n",
    "        self.restaurant_name = restaurant_name\n",
    "        self.cuisin_type = cuisin_type\n",
    "        \n",
    "    def describe_restaurant(self):\n",
    "        print(self.restaurant_name.title()+\" has a cuisin type of \"+self.cuisin_type.title()+\".\")\n",
    "    \n",
    "    def open_restaurant(self):\n",
    "        print(\"The restaurant \"+self.restaurant_name.title()+\" is now open.\")\n",
    "        \n",
    "    def set_number_served(self,number_served):\n",
    "        print(\"The restaurant has served \"+str(number_served)+\" tables.\")\n",
    "\n",
    "class IceCreamStand(Restaurant):\n",
    "    \n",
    "    def __init__(self, restaurant_name, cuisin_type):\n",
    "        super().__init__(restaurant_name, cuisin_type)\n",
    "        self.flavors = ['vanilla','strawberry','chocolate']\n",
    "        \n",
    "    def describe_flavors(self):\n",
    "        print(\"The restaurant has icecreams of the following flavors:\")\n",
    "        for self.flavor in self.flavors:\n",
    "            print(self.flavor)\n",
    "    "
   ]
  },
  {
   "cell_type": "code",
   "execution_count": 97,
   "metadata": {},
   "outputs": [
    {
     "name": "stdout",
     "output_type": "stream",
     "text": [
      "The restaurant has icecreams of the following flavors:\n",
      "vanilla\n",
      "strawberry\n",
      "chocolate\n"
     ]
    }
   ],
   "source": [
    "icecream_flavors = IceCreamStand('macdonald','fastfood')\n",
    "IceCreamStand.describe_flavors(icecream_flavors)"
   ]
  },
  {
   "cell_type": "code",
   "execution_count": 102,
   "metadata": {},
   "outputs": [],
   "source": [
    "class User():\n",
    "    \n",
    "    def __init__(self, first_name, last_name, location, profession):\n",
    "        self.first_name = first_name\n",
    "        self.last_name = last_name\n",
    "        self.location = location\n",
    "        self.profession = profession\n",
    "        self.login_attempts = 0\n",
    "    \n",
    "    def describe_user(self):\n",
    "        print(self.first_name.title())\n",
    "        print(self.last_name.title())\n",
    "        print(self.location)\n",
    "        print(self.profession)\n",
    "    \n",
    "    def greet_user(self):\n",
    "        print(\"\\nHello, \"+self.first_name.title()+\" \"+self.last_name.title()+\", nice to meet you!\\n\")\n",
    "\n",
    "class Admin(User):\n",
    "    \n",
    "    def __init__(self, first_name, last_name, location, profession):\n",
    "        super().__init__(first_name, last_name, location, profession)\n",
    "        self.privileges = ['can add post', 'can delete post', 'can ban user']\n",
    "    \n",
    "    def show_privileges(self):\n",
    "        print(\"The administrator has the following privileges:\")\n",
    "        for self.privilege in self.privileges:\n",
    "            print(self.privilege)"
   ]
  },
  {
   "cell_type": "code",
   "execution_count": 103,
   "metadata": {},
   "outputs": [
    {
     "name": "stdout",
     "output_type": "stream",
     "text": [
      "The administrator has the following privileges:\n",
      "can add post\n",
      "can delete post\n",
      "can ban user\n"
     ]
    }
   ],
   "source": [
    "admin = Admin('elon', 'musk', 'california', 'tesla')\n",
    "Admin.show_privileges(admin)"
   ]
  },
  {
   "cell_type": "code",
   "execution_count": 116,
   "metadata": {},
   "outputs": [],
   "source": [
    "class User():\n",
    "    \n",
    "    def __init__(self, first_name, last_name, location, profession):\n",
    "        self.first_name = first_name\n",
    "        self.last_name = last_name\n",
    "        self.location = location\n",
    "        self.profession = profession\n",
    "        self.login_attempts = 0\n",
    "    \n",
    "    def describe_user(self):\n",
    "        print(self.first_name.title())\n",
    "        print(self.last_name.title())\n",
    "        print(self.location)\n",
    "        print(self.profession)\n",
    "    \n",
    "    def greet_user(self):\n",
    "        print(\"\\nHello, \"+self.first_name.title()+\" \"+self.last_name.title()+\", nice to meet you!\\n\")\n",
    "\n",
    "class Privileges():\n",
    "    \n",
    "    def __init__(self, privileges=['can add post', 'can delete post', 'can ban user']):\n",
    "        self.admin_privileges = privileges\n",
    "        \n",
    "    def show_privileges(self):\n",
    "        print(\"The administrator has the following privileges:\")\n",
    "        for self.admin_privilege in self.admin_privileges:\n",
    "            print(self.admin_privilege)\n",
    "\n",
    "class Admin(User):\n",
    "    \n",
    "    def __init__(self, first_name, last_name, location, profession):\n",
    "        super().__init__(first_name, last_name, location, profession)\n",
    "        self.privileges = Privileges()"
   ]
  },
  {
   "cell_type": "code",
   "execution_count": 118,
   "metadata": {},
   "outputs": [
    {
     "name": "stdout",
     "output_type": "stream",
     "text": [
      "The administrator has the following privileges:\n",
      "can add post\n",
      "can delete post\n",
      "can ban user\n"
     ]
    }
   ],
   "source": [
    "admin = Admin('elon', 'musk', 'california', 'tesla')\n",
    "admin.privileges.show_privileges()"
   ]
  },
  {
   "cell_type": "markdown",
   "metadata": {},
   "source": [
    "# Chapter 12"
   ]
  },
  {
   "cell_type": "code",
   "execution_count": null,
   "metadata": {},
   "outputs": [],
   "source": []
  }
 ],
 "metadata": {
  "kernelspec": {
   "display_name": "Python 3",
   "language": "python",
   "name": "python3"
  },
  "language_info": {
   "codemirror_mode": {
    "name": "ipython",
    "version": 3
   },
   "file_extension": ".py",
   "mimetype": "text/x-python",
   "name": "python",
   "nbconvert_exporter": "python",
   "pygments_lexer": "ipython3",
   "version": "3.6.4"
  }
 },
 "nbformat": 4,
 "nbformat_minor": 2
}
