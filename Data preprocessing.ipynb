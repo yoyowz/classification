{
 "cells": [
  {
   "cell_type": "code",
   "execution_count": 1,
   "metadata": {},
   "outputs": [
    {
     "data": {
      "text/html": [
       "<div>\n",
       "<style scoped>\n",
       "    .dataframe tbody tr th:only-of-type {\n",
       "        vertical-align: middle;\n",
       "    }\n",
       "\n",
       "    .dataframe tbody tr th {\n",
       "        vertical-align: top;\n",
       "    }\n",
       "\n",
       "    .dataframe thead th {\n",
       "        text-align: right;\n",
       "    }\n",
       "</style>\n",
       "<table border=\"1\" class=\"dataframe\">\n",
       "  <thead>\n",
       "    <tr style=\"text-align: right;\">\n",
       "      <th></th>\n",
       "      <th>color</th>\n",
       "      <th>size</th>\n",
       "      <th>price</th>\n",
       "      <th>classlabel</th>\n",
       "    </tr>\n",
       "  </thead>\n",
       "  <tbody>\n",
       "    <tr>\n",
       "      <th>0</th>\n",
       "      <td>green</td>\n",
       "      <td>M</td>\n",
       "      <td>10.1</td>\n",
       "      <td>class1</td>\n",
       "    </tr>\n",
       "    <tr>\n",
       "      <th>1</th>\n",
       "      <td>red</td>\n",
       "      <td>L</td>\n",
       "      <td>13.5</td>\n",
       "      <td>class2</td>\n",
       "    </tr>\n",
       "    <tr>\n",
       "      <th>2</th>\n",
       "      <td>blue</td>\n",
       "      <td>XL</td>\n",
       "      <td>15.3</td>\n",
       "      <td>class1</td>\n",
       "    </tr>\n",
       "  </tbody>\n",
       "</table>\n",
       "</div>"
      ],
      "text/plain": [
       "   color size price classlabel\n",
       "0  green    M  10.1     class1\n",
       "1    red    L  13.5     class2\n",
       "2   blue   XL  15.3     class1"
      ]
     },
     "execution_count": 1,
     "metadata": {},
     "output_type": "execute_result"
    }
   ],
   "source": [
    "import pandas as pd\n",
    "\n",
    "df = pd.DataFrame([\n",
    "    ['green', 'M', '10.1', 'class1'],\n",
    "    ['red', 'L', '13.5', 'class2'],\n",
    "    ['blue', 'XL', '15.3', 'class1']])\n",
    "df.columns = ['color', 'size', 'price', 'classlabel']\n",
    "df"
   ]
  },
  {
   "cell_type": "code",
   "execution_count": 2,
   "metadata": {},
   "outputs": [
    {
     "data": {
      "text/html": [
       "<div>\n",
       "<style scoped>\n",
       "    .dataframe tbody tr th:only-of-type {\n",
       "        vertical-align: middle;\n",
       "    }\n",
       "\n",
       "    .dataframe tbody tr th {\n",
       "        vertical-align: top;\n",
       "    }\n",
       "\n",
       "    .dataframe thead th {\n",
       "        text-align: right;\n",
       "    }\n",
       "</style>\n",
       "<table border=\"1\" class=\"dataframe\">\n",
       "  <thead>\n",
       "    <tr style=\"text-align: right;\">\n",
       "      <th></th>\n",
       "      <th>color</th>\n",
       "      <th>size</th>\n",
       "      <th>price</th>\n",
       "      <th>classlabel</th>\n",
       "    </tr>\n",
       "  </thead>\n",
       "  <tbody>\n",
       "    <tr>\n",
       "      <th>0</th>\n",
       "      <td>green</td>\n",
       "      <td>1</td>\n",
       "      <td>10.1</td>\n",
       "      <td>class1</td>\n",
       "    </tr>\n",
       "    <tr>\n",
       "      <th>1</th>\n",
       "      <td>red</td>\n",
       "      <td>2</td>\n",
       "      <td>13.5</td>\n",
       "      <td>class2</td>\n",
       "    </tr>\n",
       "    <tr>\n",
       "      <th>2</th>\n",
       "      <td>blue</td>\n",
       "      <td>3</td>\n",
       "      <td>15.3</td>\n",
       "      <td>class1</td>\n",
       "    </tr>\n",
       "  </tbody>\n",
       "</table>\n",
       "</div>"
      ],
      "text/plain": [
       "   color  size price classlabel\n",
       "0  green     1  10.1     class1\n",
       "1    red     2  13.5     class2\n",
       "2   blue     3  15.3     class1"
      ]
     },
     "execution_count": 2,
     "metadata": {},
     "output_type": "execute_result"
    }
   ],
   "source": [
    "size_mapping = {\n",
    "    'XL': 3,\n",
    "    'L': 2,\n",
    "    'M': 1}\n",
    "df['size'] = df['size'].map(size_mapping)\n",
    "df"
   ]
  },
  {
   "cell_type": "code",
   "execution_count": 4,
   "metadata": {},
   "outputs": [
    {
     "data": {
      "text/plain": [
       "0     M\n",
       "1     L\n",
       "2    XL\n",
       "Name: size, dtype: object"
      ]
     },
     "execution_count": 4,
     "metadata": {},
     "output_type": "execute_result"
    }
   ],
   "source": [
    "inv_size_mapping = {v:k for k,v in size_mapping.items()}\n",
    "df['size'].map(inv_size_mapping)"
   ]
  },
  {
   "cell_type": "code",
   "execution_count": 5,
   "metadata": {},
   "outputs": [
    {
     "data": {
      "text/html": [
       "<div>\n",
       "<style scoped>\n",
       "    .dataframe tbody tr th:only-of-type {\n",
       "        vertical-align: middle;\n",
       "    }\n",
       "\n",
       "    .dataframe tbody tr th {\n",
       "        vertical-align: top;\n",
       "    }\n",
       "\n",
       "    .dataframe thead th {\n",
       "        text-align: right;\n",
       "    }\n",
       "</style>\n",
       "<table border=\"1\" class=\"dataframe\">\n",
       "  <thead>\n",
       "    <tr style=\"text-align: right;\">\n",
       "      <th></th>\n",
       "      <th>color</th>\n",
       "      <th>size</th>\n",
       "      <th>price</th>\n",
       "      <th>classlabel</th>\n",
       "    </tr>\n",
       "  </thead>\n",
       "  <tbody>\n",
       "    <tr>\n",
       "      <th>0</th>\n",
       "      <td>green</td>\n",
       "      <td>1</td>\n",
       "      <td>10.1</td>\n",
       "      <td>class1</td>\n",
       "    </tr>\n",
       "    <tr>\n",
       "      <th>1</th>\n",
       "      <td>red</td>\n",
       "      <td>2</td>\n",
       "      <td>13.5</td>\n",
       "      <td>class2</td>\n",
       "    </tr>\n",
       "    <tr>\n",
       "      <th>2</th>\n",
       "      <td>blue</td>\n",
       "      <td>3</td>\n",
       "      <td>15.3</td>\n",
       "      <td>class1</td>\n",
       "    </tr>\n",
       "  </tbody>\n",
       "</table>\n",
       "</div>"
      ],
      "text/plain": [
       "   color  size price classlabel\n",
       "0  green     1  10.1     class1\n",
       "1    red     2  13.5     class2\n",
       "2   blue     3  15.3     class1"
      ]
     },
     "execution_count": 5,
     "metadata": {},
     "output_type": "execute_result"
    }
   ],
   "source": [
    "df"
   ]
  },
  {
   "cell_type": "code",
   "execution_count": 6,
   "metadata": {},
   "outputs": [
    {
     "data": {
      "text/plain": [
       "{'class1': 0, 'class2': 1}"
      ]
     },
     "execution_count": 6,
     "metadata": {},
     "output_type": "execute_result"
    }
   ],
   "source": [
    "import numpy as np\n",
    "\n",
    "class_mapping = {label:idx for idx, label in\n",
    "                enumerate(np.unique(df['classlabel']))}\n",
    "class_mapping"
   ]
  },
  {
   "cell_type": "code",
   "execution_count": 7,
   "metadata": {},
   "outputs": [
    {
     "data": {
      "text/html": [
       "<div>\n",
       "<style scoped>\n",
       "    .dataframe tbody tr th:only-of-type {\n",
       "        vertical-align: middle;\n",
       "    }\n",
       "\n",
       "    .dataframe tbody tr th {\n",
       "        vertical-align: top;\n",
       "    }\n",
       "\n",
       "    .dataframe thead th {\n",
       "        text-align: right;\n",
       "    }\n",
       "</style>\n",
       "<table border=\"1\" class=\"dataframe\">\n",
       "  <thead>\n",
       "    <tr style=\"text-align: right;\">\n",
       "      <th></th>\n",
       "      <th>color</th>\n",
       "      <th>size</th>\n",
       "      <th>price</th>\n",
       "      <th>classlabel</th>\n",
       "    </tr>\n",
       "  </thead>\n",
       "  <tbody>\n",
       "    <tr>\n",
       "      <th>0</th>\n",
       "      <td>green</td>\n",
       "      <td>1</td>\n",
       "      <td>10.1</td>\n",
       "      <td>0</td>\n",
       "    </tr>\n",
       "    <tr>\n",
       "      <th>1</th>\n",
       "      <td>red</td>\n",
       "      <td>2</td>\n",
       "      <td>13.5</td>\n",
       "      <td>1</td>\n",
       "    </tr>\n",
       "    <tr>\n",
       "      <th>2</th>\n",
       "      <td>blue</td>\n",
       "      <td>3</td>\n",
       "      <td>15.3</td>\n",
       "      <td>0</td>\n",
       "    </tr>\n",
       "  </tbody>\n",
       "</table>\n",
       "</div>"
      ],
      "text/plain": [
       "   color  size price  classlabel\n",
       "0  green     1  10.1           0\n",
       "1    red     2  13.5           1\n",
       "2   blue     3  15.3           0"
      ]
     },
     "execution_count": 7,
     "metadata": {},
     "output_type": "execute_result"
    }
   ],
   "source": [
    "df['classlabel'] = df['classlabel'].map(class_mapping)\n",
    "df"
   ]
  },
  {
   "cell_type": "code",
   "execution_count": 9,
   "metadata": {},
   "outputs": [
    {
     "data": {
      "text/html": [
       "<div>\n",
       "<style scoped>\n",
       "    .dataframe tbody tr th:only-of-type {\n",
       "        vertical-align: middle;\n",
       "    }\n",
       "\n",
       "    .dataframe tbody tr th {\n",
       "        vertical-align: top;\n",
       "    }\n",
       "\n",
       "    .dataframe thead th {\n",
       "        text-align: right;\n",
       "    }\n",
       "</style>\n",
       "<table border=\"1\" class=\"dataframe\">\n",
       "  <thead>\n",
       "    <tr style=\"text-align: right;\">\n",
       "      <th></th>\n",
       "      <th>color</th>\n",
       "      <th>size</th>\n",
       "      <th>price</th>\n",
       "      <th>classlabel</th>\n",
       "    </tr>\n",
       "  </thead>\n",
       "  <tbody>\n",
       "    <tr>\n",
       "      <th>0</th>\n",
       "      <td>green</td>\n",
       "      <td>1</td>\n",
       "      <td>10.1</td>\n",
       "      <td>class1</td>\n",
       "    </tr>\n",
       "    <tr>\n",
       "      <th>1</th>\n",
       "      <td>red</td>\n",
       "      <td>2</td>\n",
       "      <td>13.5</td>\n",
       "      <td>class2</td>\n",
       "    </tr>\n",
       "    <tr>\n",
       "      <th>2</th>\n",
       "      <td>blue</td>\n",
       "      <td>3</td>\n",
       "      <td>15.3</td>\n",
       "      <td>class1</td>\n",
       "    </tr>\n",
       "  </tbody>\n",
       "</table>\n",
       "</div>"
      ],
      "text/plain": [
       "   color  size price classlabel\n",
       "0  green     1  10.1     class1\n",
       "1    red     2  13.5     class2\n",
       "2   blue     3  15.3     class1"
      ]
     },
     "execution_count": 9,
     "metadata": {},
     "output_type": "execute_result"
    }
   ],
   "source": [
    "inv_class_mapping = {v: k for k, v in class_mapping.items()}\n",
    "df['classlabel'] = df['classlabel'].map(inv_class_mapping)\n",
    "df"
   ]
  },
  {
   "cell_type": "code",
   "execution_count": 10,
   "metadata": {},
   "outputs": [
    {
     "data": {
      "text/plain": [
       "array([0, 1, 0], dtype=int64)"
      ]
     },
     "execution_count": 10,
     "metadata": {},
     "output_type": "execute_result"
    }
   ],
   "source": [
    "from sklearn.preprocessing import LabelEncoder\n",
    "\n",
    "class_le = LabelEncoder()\n",
    "y = class_le.fit_transform(df['classlabel'].values)\n",
    "y"
   ]
  },
  {
   "cell_type": "code",
   "execution_count": 11,
   "metadata": {},
   "outputs": [
    {
     "name": "stderr",
     "output_type": "stream",
     "text": [
      "c:\\users\\zhuowu\\appdata\\local\\programs\\python\\python36\\lib\\site-packages\\sklearn\\preprocessing\\label.py:151: DeprecationWarning: The truth value of an empty array is ambiguous. Returning False, but in future this will result in an error. Use `array.size > 0` to check that an array is not empty.\n",
      "  if diff:\n"
     ]
    },
    {
     "data": {
      "text/plain": [
       "array(['class1', 'class2', 'class1'], dtype=object)"
      ]
     },
     "execution_count": 11,
     "metadata": {},
     "output_type": "execute_result"
    }
   ],
   "source": [
    "class_le.inverse_transform(y)"
   ]
  },
  {
   "cell_type": "code",
   "execution_count": 13,
   "metadata": {},
   "outputs": [
    {
     "data": {
      "text/plain": [
       "array([[1, 1, '10.1'],\n",
       "       [2, 2, '13.5'],\n",
       "       [0, 3, '15.3']], dtype=object)"
      ]
     },
     "execution_count": 13,
     "metadata": {},
     "output_type": "execute_result"
    }
   ],
   "source": [
    "X = df[['color', 'size', 'price']].values\n",
    "color_le = LabelEncoder()\n",
    "X[:, 0] = color_le.fit_transform(X[:, 0])\n",
    "X"
   ]
  },
  {
   "cell_type": "code",
   "execution_count": 14,
   "metadata": {},
   "outputs": [
    {
     "data": {
      "text/plain": [
       "array([[ 0. ,  1. ,  0. ,  1. , 10.1],\n",
       "       [ 0. ,  0. ,  1. ,  2. , 13.5],\n",
       "       [ 1. ,  0. ,  0. ,  3. , 15.3]])"
      ]
     },
     "execution_count": 14,
     "metadata": {},
     "output_type": "execute_result"
    }
   ],
   "source": [
    "from sklearn.preprocessing import OneHotEncoder\n",
    "\n",
    "ohe = OneHotEncoder(categorical_features=[0])\n",
    "ohe.fit_transform(X).toarray()"
   ]
  },
  {
   "cell_type": "code",
   "execution_count": 16,
   "metadata": {},
   "outputs": [
    {
     "data": {
      "text/html": [
       "<div>\n",
       "<style scoped>\n",
       "    .dataframe tbody tr th:only-of-type {\n",
       "        vertical-align: middle;\n",
       "    }\n",
       "\n",
       "    .dataframe tbody tr th {\n",
       "        vertical-align: top;\n",
       "    }\n",
       "\n",
       "    .dataframe thead th {\n",
       "        text-align: right;\n",
       "    }\n",
       "</style>\n",
       "<table border=\"1\" class=\"dataframe\">\n",
       "  <thead>\n",
       "    <tr style=\"text-align: right;\">\n",
       "      <th></th>\n",
       "      <th>size</th>\n",
       "      <th>price_10.1</th>\n",
       "      <th>price_13.5</th>\n",
       "      <th>price_15.3</th>\n",
       "      <th>color_blue</th>\n",
       "      <th>color_green</th>\n",
       "      <th>color_red</th>\n",
       "    </tr>\n",
       "  </thead>\n",
       "  <tbody>\n",
       "    <tr>\n",
       "      <th>0</th>\n",
       "      <td>1</td>\n",
       "      <td>1</td>\n",
       "      <td>0</td>\n",
       "      <td>0</td>\n",
       "      <td>0</td>\n",
       "      <td>1</td>\n",
       "      <td>0</td>\n",
       "    </tr>\n",
       "    <tr>\n",
       "      <th>1</th>\n",
       "      <td>2</td>\n",
       "      <td>0</td>\n",
       "      <td>1</td>\n",
       "      <td>0</td>\n",
       "      <td>0</td>\n",
       "      <td>0</td>\n",
       "      <td>1</td>\n",
       "    </tr>\n",
       "    <tr>\n",
       "      <th>2</th>\n",
       "      <td>3</td>\n",
       "      <td>0</td>\n",
       "      <td>0</td>\n",
       "      <td>1</td>\n",
       "      <td>1</td>\n",
       "      <td>0</td>\n",
       "      <td>0</td>\n",
       "    </tr>\n",
       "  </tbody>\n",
       "</table>\n",
       "</div>"
      ],
      "text/plain": [
       "   size  price_10.1  price_13.5  price_15.3  color_blue  color_green  \\\n",
       "0     1           1           0           0           0            1   \n",
       "1     2           0           1           0           0            0   \n",
       "2     3           0           0           1           1            0   \n",
       "\n",
       "   color_red  \n",
       "0          0  \n",
       "1          1  \n",
       "2          0  "
      ]
     },
     "execution_count": 16,
     "metadata": {},
     "output_type": "execute_result"
    }
   ],
   "source": [
    "pd.get_dummies(df[['price', 'color', 'size']])"
   ]
  },
  {
   "cell_type": "code",
   "execution_count": 17,
   "metadata": {},
   "outputs": [
    {
     "name": "stdout",
     "output_type": "stream",
     "text": [
      "Class labels [1 2 3]\n"
     ]
    }
   ],
   "source": [
    "df_wine = pd.read_csv('wine_data.csv')\n",
    "df_wine.columns = ['Class label', 'Alcohol', \n",
    "                  'Malic acid', 'Ash',\n",
    "                  'Alcalinity of ash', 'Magnesium',\n",
    "                  'Total phenols', 'Flavanoids',\n",
    "                  'Nonflavanoid phenols', 'Proanthocyanins',\n",
    "                  'Color intensity', 'Hue',\n",
    "                  'OD280/OD315 of diluted wines',\n",
    "                  'Proline']\n",
    "print('Class labels', np.unique(df_wine['Class label']))"
   ]
  },
  {
   "cell_type": "code",
   "execution_count": 18,
   "metadata": {},
   "outputs": [
    {
     "data": {
      "text/plain": [
       "<bound method NDFrame.head of      Class label  Alcohol  Malic acid   Ash  Alcalinity of ash  Magnesium  \\\n",
       "0              1    13.20        1.78  2.14               11.2        100   \n",
       "1              1    13.16        2.36  2.67               18.6        101   \n",
       "2              1    14.37        1.95  2.50               16.8        113   \n",
       "3              1    13.24        2.59  2.87               21.0        118   \n",
       "4              1    14.20        1.76  2.45               15.2        112   \n",
       "5              1    14.39        1.87  2.45               14.6         96   \n",
       "6              1    14.06        2.15  2.61               17.6        121   \n",
       "7              1    14.83        1.64  2.17               14.0         97   \n",
       "8              1    13.86        1.35  2.27               16.0         98   \n",
       "9              1    14.10        2.16  2.30               18.0        105   \n",
       "10             1    14.12        1.48  2.32               16.8         95   \n",
       "11             1    13.75        1.73  2.41               16.0         89   \n",
       "12             1    14.75        1.73  2.39               11.4         91   \n",
       "13             1    14.38        1.87  2.38               12.0        102   \n",
       "14             1    13.63        1.81  2.70               17.2        112   \n",
       "15             1    14.30        1.92  2.72               20.0        120   \n",
       "16             1    13.83        1.57  2.62               20.0        115   \n",
       "17             1    14.19        1.59  2.48               16.5        108   \n",
       "18             1    13.64        3.10  2.56               15.2        116   \n",
       "19             1    14.06        1.63  2.28               16.0        126   \n",
       "20             1    12.93        3.80  2.65               18.6        102   \n",
       "21             1    13.71        1.86  2.36               16.6        101   \n",
       "22             1    12.85        1.60  2.52               17.8         95   \n",
       "23             1    13.50        1.81  2.61               20.0         96   \n",
       "24             1    13.05        2.05  3.22               25.0        124   \n",
       "25             1    13.39        1.77  2.62               16.1         93   \n",
       "26             1    13.30        1.72  2.14               17.0         94   \n",
       "27             1    13.87        1.90  2.80               19.4        107   \n",
       "28             1    14.02        1.68  2.21               16.0         96   \n",
       "29             1    13.73        1.50  2.70               22.5        101   \n",
       "..           ...      ...         ...   ...                ...        ...   \n",
       "147            3    13.32        3.24  2.38               21.5         92   \n",
       "148            3    13.08        3.90  2.36               21.5        113   \n",
       "149            3    13.50        3.12  2.62               24.0        123   \n",
       "150            3    12.79        2.67  2.48               22.0        112   \n",
       "151            3    13.11        1.90  2.75               25.5        116   \n",
       "152            3    13.23        3.30  2.28               18.5         98   \n",
       "153            3    12.58        1.29  2.10               20.0        103   \n",
       "154            3    13.17        5.19  2.32               22.0         93   \n",
       "155            3    13.84        4.12  2.38               19.5         89   \n",
       "156            3    12.45        3.03  2.64               27.0         97   \n",
       "157            3    14.34        1.68  2.70               25.0         98   \n",
       "158            3    13.48        1.67  2.64               22.5         89   \n",
       "159            3    12.36        3.83  2.38               21.0         88   \n",
       "160            3    13.69        3.26  2.54               20.0        107   \n",
       "161            3    12.85        3.27  2.58               22.0        106   \n",
       "162            3    12.96        3.45  2.35               18.5        106   \n",
       "163            3    13.78        2.76  2.30               22.0         90   \n",
       "164            3    13.73        4.36  2.26               22.5         88   \n",
       "165            3    13.45        3.70  2.60               23.0        111   \n",
       "166            3    12.82        3.37  2.30               19.5         88   \n",
       "167            3    13.58        2.58  2.69               24.5        105   \n",
       "168            3    13.40        4.60  2.86               25.0        112   \n",
       "169            3    12.20        3.03  2.32               19.0         96   \n",
       "170            3    12.77        2.39  2.28               19.5         86   \n",
       "171            3    14.16        2.51  2.48               20.0         91   \n",
       "172            3    13.71        5.65  2.45               20.5         95   \n",
       "173            3    13.40        3.91  2.48               23.0        102   \n",
       "174            3    13.27        4.28  2.26               20.0        120   \n",
       "175            3    13.17        2.59  2.37               20.0        120   \n",
       "176            3    14.13        4.10  2.74               24.5         96   \n",
       "\n",
       "     Total phenols  Flavanoids  Nonflavanoid phenols  Proanthocyanins  \\\n",
       "0             2.65        2.76                  0.26             1.28   \n",
       "1             2.80        3.24                  0.30             2.81   \n",
       "2             3.85        3.49                  0.24             2.18   \n",
       "3             2.80        2.69                  0.39             1.82   \n",
       "4             3.27        3.39                  0.34             1.97   \n",
       "5             2.50        2.52                  0.30             1.98   \n",
       "6             2.60        2.51                  0.31             1.25   \n",
       "7             2.80        2.98                  0.29             1.98   \n",
       "8             2.98        3.15                  0.22             1.85   \n",
       "9             2.95        3.32                  0.22             2.38   \n",
       "10            2.20        2.43                  0.26             1.57   \n",
       "11            2.60        2.76                  0.29             1.81   \n",
       "12            3.10        3.69                  0.43             2.81   \n",
       "13            3.30        3.64                  0.29             2.96   \n",
       "14            2.85        2.91                  0.30             1.46   \n",
       "15            2.80        3.14                  0.33             1.97   \n",
       "16            2.95        3.40                  0.40             1.72   \n",
       "17            3.30        3.93                  0.32             1.86   \n",
       "18            2.70        3.03                  0.17             1.66   \n",
       "19            3.00        3.17                  0.24             2.10   \n",
       "20            2.41        2.41                  0.25             1.98   \n",
       "21            2.61        2.88                  0.27             1.69   \n",
       "22            2.48        2.37                  0.26             1.46   \n",
       "23            2.53        2.61                  0.28             1.66   \n",
       "24            2.63        2.68                  0.47             1.92   \n",
       "25            2.85        2.94                  0.34             1.45   \n",
       "26            2.40        2.19                  0.27             1.35   \n",
       "27            2.95        2.97                  0.37             1.76   \n",
       "28            2.65        2.33                  0.26             1.98   \n",
       "29            3.00        3.25                  0.29             2.38   \n",
       "..             ...         ...                   ...              ...   \n",
       "147           1.93        0.76                  0.45             1.25   \n",
       "148           1.41        1.39                  0.34             1.14   \n",
       "149           1.40        1.57                  0.22             1.25   \n",
       "150           1.48        1.36                  0.24             1.26   \n",
       "151           2.20        1.28                  0.26             1.56   \n",
       "152           1.80        0.83                  0.61             1.87   \n",
       "153           1.48        0.58                  0.53             1.40   \n",
       "154           1.74        0.63                  0.61             1.55   \n",
       "155           1.80        0.83                  0.48             1.56   \n",
       "156           1.90        0.58                  0.63             1.14   \n",
       "157           2.80        1.31                  0.53             2.70   \n",
       "158           2.60        1.10                  0.52             2.29   \n",
       "159           2.30        0.92                  0.50             1.04   \n",
       "160           1.83        0.56                  0.50             0.80   \n",
       "161           1.65        0.60                  0.60             0.96   \n",
       "162           1.39        0.70                  0.40             0.94   \n",
       "163           1.35        0.68                  0.41             1.03   \n",
       "164           1.28        0.47                  0.52             1.15   \n",
       "165           1.70        0.92                  0.43             1.46   \n",
       "166           1.48        0.66                  0.40             0.97   \n",
       "167           1.55        0.84                  0.39             1.54   \n",
       "168           1.98        0.96                  0.27             1.11   \n",
       "169           1.25        0.49                  0.40             0.73   \n",
       "170           1.39        0.51                  0.48             0.64   \n",
       "171           1.68        0.70                  0.44             1.24   \n",
       "172           1.68        0.61                  0.52             1.06   \n",
       "173           1.80        0.75                  0.43             1.41   \n",
       "174           1.59        0.69                  0.43             1.35   \n",
       "175           1.65        0.68                  0.53             1.46   \n",
       "176           2.05        0.76                  0.56             1.35   \n",
       "\n",
       "     Color intensity   Hue  OD280/OD315 of diluted wines  Proline  \n",
       "0           4.380000  1.05                          3.40     1050  \n",
       "1           5.680000  1.03                          3.17     1185  \n",
       "2           7.800000  0.86                          3.45     1480  \n",
       "3           4.320000  1.04                          2.93      735  \n",
       "4           6.750000  1.05                          2.85     1450  \n",
       "5           5.250000  1.02                          3.58     1290  \n",
       "6           5.050000  1.06                          3.58     1295  \n",
       "7           5.200000  1.08                          2.85     1045  \n",
       "8           7.220000  1.01                          3.55     1045  \n",
       "9           5.750000  1.25                          3.17     1510  \n",
       "10          5.000000  1.17                          2.82     1280  \n",
       "11          5.600000  1.15                          2.90     1320  \n",
       "12          5.400000  1.25                          2.73     1150  \n",
       "13          7.500000  1.20                          3.00     1547  \n",
       "14          7.300000  1.28                          2.88     1310  \n",
       "15          6.200000  1.07                          2.65     1280  \n",
       "16          6.600000  1.13                          2.57     1130  \n",
       "17          8.700000  1.23                          2.82     1680  \n",
       "18          5.100000  0.96                          3.36      845  \n",
       "19          5.650000  1.09                          3.71      780  \n",
       "20          4.500000  1.03                          3.52      770  \n",
       "21          3.800000  1.11                          4.00     1035  \n",
       "22          3.930000  1.09                          3.63     1015  \n",
       "23          3.520000  1.12                          3.82      845  \n",
       "24          3.580000  1.13                          3.20      830  \n",
       "25          4.800000  0.92                          3.22     1195  \n",
       "26          3.950000  1.02                          2.77     1285  \n",
       "27          4.500000  1.25                          3.40      915  \n",
       "28          4.700000  1.04                          3.59     1035  \n",
       "29          5.700000  1.19                          2.71     1285  \n",
       "..               ...   ...                           ...      ...  \n",
       "147         8.420000  0.55                          1.62      650  \n",
       "148         9.400000  0.57                          1.33      550  \n",
       "149         8.600000  0.59                          1.30      500  \n",
       "150        10.800000  0.48                          1.47      480  \n",
       "151         7.100000  0.61                          1.33      425  \n",
       "152        10.520000  0.56                          1.51      675  \n",
       "153         7.600000  0.58                          1.55      640  \n",
       "154         7.900000  0.60                          1.48      725  \n",
       "155         9.010000  0.57                          1.64      480  \n",
       "156         7.500000  0.67                          1.73      880  \n",
       "157        13.000000  0.57                          1.96      660  \n",
       "158        11.750000  0.57                          1.78      620  \n",
       "159         7.650000  0.56                          1.58      520  \n",
       "160         5.880000  0.96                          1.82      680  \n",
       "161         5.580000  0.87                          2.11      570  \n",
       "162         5.280000  0.68                          1.75      675  \n",
       "163         9.580000  0.70                          1.68      615  \n",
       "164         6.620000  0.78                          1.75      520  \n",
       "165        10.680000  0.85                          1.56      695  \n",
       "166        10.260000  0.72                          1.75      685  \n",
       "167         8.660000  0.74                          1.80      750  \n",
       "168         8.500000  0.67                          1.92      630  \n",
       "169         5.500000  0.66                          1.83      510  \n",
       "170         9.899999  0.57                          1.63      470  \n",
       "171         9.700000  0.62                          1.71      660  \n",
       "172         7.700000  0.64                          1.74      740  \n",
       "173         7.300000  0.70                          1.56      750  \n",
       "174        10.200000  0.59                          1.56      835  \n",
       "175         9.300000  0.60                          1.62      840  \n",
       "176         9.200000  0.61                          1.60      560  \n",
       "\n",
       "[177 rows x 14 columns]>"
      ]
     },
     "execution_count": 18,
     "metadata": {},
     "output_type": "execute_result"
    }
   ],
   "source": [
    "df_wine.head"
   ]
  },
  {
   "cell_type": "code",
   "execution_count": 20,
   "metadata": {},
   "outputs": [],
   "source": [
    "from sklearn.model_selection import train_test_split\n",
    "\n",
    "X, y = df_wine.iloc[:, 1:].values, df_wine.iloc[:, 0].values\n",
    "X_train, X_test, y_train, y_test= train_test_split(X, y, test_size=0.3, random_state=0, stratify=y)"
   ]
  },
  {
   "cell_type": "code",
   "execution_count": 21,
   "metadata": {},
   "outputs": [
    {
     "name": "stdout",
     "output_type": "stream",
     "text": [
      "Standardized:  [-1.46385011 -0.87831007 -0.29277002  0.29277002  0.87831007  1.46385011]\n",
      "('Normalized:', array([0. , 0.2, 0.4, 0.6, 0.8, 1. ]))\n"
     ]
    }
   ],
   "source": [
    "ex = np.array([0, 1, 2, 3, 4, 5])\n",
    "print('Standardized: ', (ex - ex.mean())/ex.std())\n",
    "print(('Normalized:', (ex - ex.min())/(ex.max()-ex.min())))"
   ]
  },
  {
   "cell_type": "code",
   "execution_count": 23,
   "metadata": {},
   "outputs": [],
   "source": [
    "from sklearn.preprocessing import StandardScaler\n",
    "\n",
    "stdsc = StandardScaler()\n",
    "X_train_std = stdsc.fit_transform(X_train)\n",
    "X_test_std = stdsc.transform(X_test)"
   ]
  },
  {
   "cell_type": "code",
   "execution_count": 25,
   "metadata": {},
   "outputs": [
    {
     "name": "stdout",
     "output_type": "stream",
     "text": [
      "Training accuracy:  1.0\n",
      "Test accuracy:  0.9814814814814815\n"
     ]
    }
   ],
   "source": [
    "from sklearn.linear_model import LogisticRegression\n",
    "\n",
    "lr = LogisticRegression(penalty='l1', C=1.0)\n",
    "lr.fit(X_train_std, y_train)\n",
    "print(\"Training accuracy: \" , lr.score(X_train_std, y_train))\n",
    "print(\"Test accuracy: \" , lr.score(X_test_std, y_test))"
   ]
  },
  {
   "cell_type": "code",
   "execution_count": 26,
   "metadata": {},
   "outputs": [
    {
     "data": {
      "text/plain": [
       "array([-1.27159003, -1.46052354, -2.24848949])"
      ]
     },
     "execution_count": 26,
     "metadata": {},
     "output_type": "execute_result"
    }
   ],
   "source": [
    "lr.intercept_"
   ]
  },
  {
   "cell_type": "code",
   "execution_count": 27,
   "metadata": {},
   "outputs": [
    {
     "data": {
      "text/plain": [
       "array([[ 1.05160174,  0.30367127,  0.17398168, -0.64330424,  0.        ,\n",
       "         0.        ,  1.17108649,  0.        ,  0.        ,  0.        ,\n",
       "         0.        ,  0.69748592,  3.13099643],\n",
       "       [-1.08367173, -0.57823561, -0.45603117,  0.08442115, -0.13671913,\n",
       "         0.05484033,  0.57864928,  0.        ,  0.13457285, -1.9877204 ,\n",
       "         0.91255318,  0.        , -2.99165172],\n",
       "       [ 0.16292729,  0.11432326,  0.34184394,  0.        ,  0.        ,\n",
       "         0.        , -2.55587708,  0.        ,  0.        ,  1.5801097 ,\n",
       "        -0.90065178, -0.39879688,  0.        ]])"
      ]
     },
     "execution_count": 27,
     "metadata": {},
     "output_type": "execute_result"
    }
   ],
   "source": [
    "lr.coef_"
   ]
  },
  {
   "cell_type": "code",
   "execution_count": 31,
   "metadata": {},
   "outputs": [
    {
     "ename": "TypeError",
     "evalue": "'list' object cannot be interpreted as an integer",
     "output_type": "error",
     "traceback": [
      "\u001b[1;31m---------------------------------------------------------------------------\u001b[0m",
      "\u001b[1;31mTypeError\u001b[0m                                 Traceback (most recent call last)",
      "\u001b[1;32m<ipython-input-31-2a19b82f99f6>\u001b[0m in \u001b[0;36m<module>\u001b[1;34m()\u001b[0m\n\u001b[0;32m     15\u001b[0m \u001b[0mweights\u001b[0m \u001b[1;33m=\u001b[0m \u001b[0mnp\u001b[0m\u001b[1;33m.\u001b[0m\u001b[0marray\u001b[0m\u001b[1;33m(\u001b[0m\u001b[0mweights\u001b[0m\u001b[1;33m)\u001b[0m\u001b[1;33m\u001b[0m\u001b[0m\n\u001b[0;32m     16\u001b[0m \u001b[1;33m\u001b[0m\u001b[0m\n\u001b[1;32m---> 17\u001b[1;33m \u001b[1;32mfor\u001b[0m \u001b[0mcolumn\u001b[0m\u001b[1;33m,\u001b[0m \u001b[0mcolor\u001b[0m \u001b[1;32min\u001b[0m \u001b[0mzip\u001b[0m\u001b[1;33m(\u001b[0m\u001b[0mrange\u001b[0m\u001b[1;33m(\u001b[0m\u001b[0mint\u001b[0m\u001b[1;33m(\u001b[0m\u001b[0mweights\u001b[0m\u001b[1;33m.\u001b[0m\u001b[0mshape\u001b[0m\u001b[1;33m[\u001b[0m\u001b[1;36m1\u001b[0m\u001b[1;33m]\u001b[0m\u001b[1;33m)\u001b[0m\u001b[1;33m,\u001b[0m \u001b[0mcolors\u001b[0m\u001b[1;33m)\u001b[0m\u001b[1;33m)\u001b[0m\u001b[1;33m:\u001b[0m\u001b[1;33m\u001b[0m\u001b[0m\n\u001b[0m\u001b[0;32m     18\u001b[0m     \u001b[0mplt\u001b[0m\u001b[1;33m.\u001b[0m\u001b[0mplot\u001b[0m\u001b[1;33m(\u001b[0m\u001b[0mparams\u001b[0m\u001b[1;33m,\u001b[0m \u001b[0mweights\u001b[0m\u001b[1;33m[\u001b[0m\u001b[1;33m:\u001b[0m\u001b[1;33m,\u001b[0m \u001b[0mcolumn\u001b[0m\u001b[1;33m]\u001b[0m\u001b[1;33m,\u001b[0m \u001b[0mlabel\u001b[0m\u001b[1;33m=\u001b[0m\u001b[0mdf_wine\u001b[0m\u001b[1;33m.\u001b[0m\u001b[0mcolumns\u001b[0m\u001b[1;33m[\u001b[0m\u001b[0mcolumn\u001b[0m\u001b[1;33m+\u001b[0m\u001b[1;36m1\u001b[0m\u001b[1;33m]\u001b[0m\u001b[1;33m,\u001b[0m \u001b[0mcolor\u001b[0m\u001b[1;33m=\u001b[0m\u001b[0mcolor\u001b[0m\u001b[1;33m)\u001b[0m\u001b[1;33m\u001b[0m\u001b[0m\n\u001b[0;32m     19\u001b[0m \u001b[0mplt\u001b[0m\u001b[1;33m.\u001b[0m\u001b[0maxhline\u001b[0m\u001b[1;33m(\u001b[0m\u001b[1;36m0\u001b[0m\u001b[1;33m,\u001b[0m \u001b[0mcolor\u001b[0m\u001b[1;33m=\u001b[0m\u001b[1;34m'black'\u001b[0m\u001b[1;33m,\u001b[0m \u001b[0mlinestyle\u001b[0m\u001b[1;33m=\u001b[0m\u001b[1;34m'--'\u001b[0m\u001b[1;33m,\u001b[0m \u001b[0mlinewidth\u001b[0m\u001b[1;33m=\u001b[0m\u001b[1;36m3\u001b[0m\u001b[1;33m)\u001b[0m\u001b[1;33m\u001b[0m\u001b[0m\n",
      "\u001b[1;31mTypeError\u001b[0m: 'list' object cannot be interpreted as an integer"
     ]
    },
    {
     "data": {
      "image/png": "[encoded data removed]",
      "text/plain": [
       "<matplotlib.figure.Figure at 0x1378dba8>"
      ]
     },
     "metadata": {},
     "output_type": "display_data"
    }
   ],
   "source": [
    "import matplotlib.pyplot as plt\n",
    "\n",
    "fig = plt.figure()\n",
    "ax = plt.subplot(111)\n",
    "\n",
    "colors = ['blue', 'green', 'red', 'cyan','magenta', 'yellow',\n",
    "         'black', 'pink', 'lightgreen', 'lightblue', 'gray', 'indigo', 'orange']\n",
    "weights, params =[], []\n",
    "for c in np.arange(-4., 6.):\n",
    "    lr = LogisticRegression(penalty='l1', C=10.**c, random_state=0)\n",
    "    lr.fit(X_train_std, y_train)\n",
    "    weights.append(lr.coef_[1])\n",
    "    params.append(10**c)\n",
    "\n",
    "weights = np.array(weights)\n",
    "\n",
    "for column, color in zip(range(weights.shape[1], colors)):\n",
    "    plt.plot(params, weights[:, column], label=df_wine.columns[column+1], color=color)\n",
    "plt.axhline(0, color='black', linestyle='--', linewidth=3)\n",
    "plt.xlim([10**(-5), 10**5])\n",
    "plt.ylabel('weight coefficient')\n",
    "plt.xlabel('C')\n",
    "plt.xscale('log')\n",
    "plt.legend(loc='upper left')\n",
    "ax.legend(loc='upper center', bbox_to_anchor=(1.38, 1.03), ncol=1, fancybox=True)\n",
    "plt.show()"
   ]
  },
  {
   "cell_type": "code",
   "execution_count": 42,
   "metadata": {},
   "outputs": [],
   "source": [
    "from sklearn.base import clone\n",
    "from itertools import combinations\n",
    "import numpy as np\n",
    "from sklearn.metrics import accuracy_score\n",
    "from sklearn.model_selection import train_test_split\n",
    "\n",
    "class SBS():\n",
    "    \n",
    "    def __init__(self, estimator, k_features, scoring=accuracy_score, test_size=0.25, random_state=1):\n",
    "        self.scoring = scoring\n",
    "        self.estimator = clone(estimator)\n",
    "        self.k_features = k_features\n",
    "        self.test_size = test_size\n",
    "        self.random_state = random_state\n",
    "        \n",
    "    def fit(self, X, y):\n",
    "        X_train, X_test, y_train, y_test = train_test_split(X, y, test_size=self.test_size, random_state=self.random_state)\n",
    "        dim = X_train.shape[1]\n",
    "        self.indices_ = tuple(range(dim))\n",
    "        self.subsets_ = [self.indices_]\n",
    "        score = self._calc_score(X_train, X_test, y_train, y_test, self.indices_)\n",
    "        self.scores_ = [score]\n",
    "        \n",
    "        while dim > self.k_features:\n",
    "            scores = []\n",
    "            subsets =[]\n",
    "            \n",
    "            for p in combinations(self.indices_, r=dim -1):\n",
    "                score = self._calc_score(X_train, X_test, y_train, y_test, p)\n",
    "                scores.append(score)\n",
    "                subsets.append(p)\n",
    "                \n",
    "            best = np.argmax(scores)\n",
    "            self.indices_ = subsets[best]\n",
    "            self.subsets_.append(self.indices_)\n",
    "            dim -=1\n",
    "            \n",
    "            self.scores_.append(scores[best])\n",
    "        self.k_score_ = self.scores_[-1]\n",
    "        \n",
    "        return self\n",
    "    \n",
    "    def transform(self, X):\n",
    "        return X[:, self.indices_]\n",
    "    \n",
    "    def _calc_score(self, X_train, X_test, y_train, y_test, indices):\n",
    "        self.estimator.fit(X_train[:, indices], y_train)\n",
    "        y_pred = self.estimator.predict(X_test[:, indices])\n",
    "        score = self.scoring(y_test, y_pred)\n",
    "        return score"
   ]
  },
  {
   "cell_type": "code",
   "execution_count": 44,
   "metadata": {},
   "outputs": [
    {
     "data": {
      "text/plain": [
       "<__main__.SBS at 0x1388be48>"
      ]
     },
     "execution_count": 44,
     "metadata": {},
     "output_type": "execute_result"
    }
   ],
   "source": [
    "import matplotlib.pyplot as plt\n",
    "from sklearn.neighbors import KNeighborsClassifier\n",
    "\n",
    "knn = KNeighborsClassifier(n_neighbors=5)\n",
    "sbs = SBS(knn, k_features=1)\n",
    "sbs.fit(X_train_std, y_train)"
   ]
  },
  {
   "cell_type": "code",
   "execution_count": 45,
   "metadata": {},
   "outputs": [
    {
     "data": {
      "image/png": "[encoded data removed]",
      "text/plain": [
       "<matplotlib.figure.Figure at 0x1389cd68>"
      ]
     },
     "metadata": {},
     "output_type": "display_data"
    }
   ],
   "source": [
    "k_feat = [len(k) for k in sbs.subsets_]\n",
    "\n",
    "plt.plot(k_feat, sbs.scores_, marker='o')\n",
    "plt.ylim([0.7, 1.02])\n",
    "plt.ylabel('accuracy')\n",
    "plt.xlabel('Number of features')\n",
    "plt.grid()\n",
    "plt.show()"
   ]
  },
  {
   "cell_type": "code",
   "execution_count": 46,
   "metadata": {},
   "outputs": [
    {
     "ename": "SyntaxError",
     "evalue": "invalid syntax (<ipython-input-46-3875ecb1486b>, line 11)",
     "output_type": "error",
     "traceback": [
      "\u001b[1;36m  File \u001b[1;32m\"<ipython-input-46-3875ecb1486b>\"\u001b[1;36m, line \u001b[1;32m11\u001b[0m\n\u001b[1;33m    print(\"%2d\") %-*s %f\" % (f+1, 30, feat_labels[indices[f]], importances[indices[f]]))\u001b[0m\n\u001b[1;37m                   ^\u001b[0m\n\u001b[1;31mSyntaxError\u001b[0m\u001b[1;31m:\u001b[0m invalid syntax\n"
     ]
    }
   ],
   "source": [
    "from sklearn.ensemble import RandomForestClassifier\n",
    "\n",
    "feat_labels = df_wine.columns[1:]\n",
    "\n",
    "forest = RandomForestClassifier(n_estimators=500, random_state=1)\n",
    "forest.fit(X_train, y_train)\n",
    "importances = forest.feature_importances_\n",
    "indices = np.argsort(importances)[::-1]\n",
    "\n",
    "for f in range(X_train.shape[1]):\n",
    "    print(\"%2d\") %-*s %f\" % (f+1, 30, feat_labels[indices[f]], importances[indices[f]]))\n",
    "\n",
    "plt.title('Feature Importance')\n",
    "plt.bar(range(X_train.shape[1]), importances[indices], align='center')\n",
    "plt.xticks(range(X_train.shape[1]), feat_labels, rotation=90)\n",
    "plt.xlim([-1, X_train.shape[1]])\n",
    "plt.tight_layout\n",
    "plt.show()"
   ]
  },
  {
   "cell_type": "code",
   "execution_count": null,
   "metadata": {},
   "outputs": [],
   "source": []
  }
 ],
 "metadata": {
  "kernelspec": {
   "display_name": "Python 3",
   "language": "python",
   "name": "python3"
  },
  "language_info": {
   "codemirror_mode": {
    "name": "ipython",
    "version": 3
   },
   "file_extension": ".py",
   "mimetype": "text/x-python",
   "name": "python",
   "nbconvert_exporter": "python",
   "pygments_lexer": "ipython3",
   "version": "3.6.4"
  }
 },
 "nbformat": 4,
 "nbformat_minor": 2
}
